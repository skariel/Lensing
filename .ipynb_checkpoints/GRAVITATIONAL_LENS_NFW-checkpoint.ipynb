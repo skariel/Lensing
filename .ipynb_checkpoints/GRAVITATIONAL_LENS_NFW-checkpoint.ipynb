{
 "cells": [
  {
   "cell_type": "code",
   "execution_count": 1,
   "metadata": {
    "collapsed": false
   },
   "outputs": [
    {
     "data": {
      "text/plain": [
       "2"
      ]
     },
     "execution_count": 1,
     "metadata": {},
     "output_type": "execute_result"
    }
   ],
   "source": [
    "1+1"
   ]
  },
  {
   "cell_type": "code",
   "execution_count": 95,
   "metadata": {
    "collapsed": false
   },
   "outputs": [
    {
     "name": "stderr",
     "output_type": "stream",
     "text": [
      "WARNING: Method definition Ha(Any) in module Main at /Users/ariel/Desktop/GRAVLENS/cosmology.jl:30 overwritten at /Users/ariel/Desktop/GRAVLENS/cosmology.jl:30.\n",
      "WARNING: Method definition FD(Any, Any) in module Main at /Users/ariel/Desktop/GRAVLENS/cosmology.jl:33 overwritten at /Users/ariel/Desktop/GRAVLENS/cosmology.jl:33.\n",
      "WARNING: Method definition FK(Any, Any) in module Main at /Users/ariel/Desktop/GRAVLENS/cosmology.jl:36 overwritten at /Users/ariel/Desktop/GRAVLENS/cosmology.jl:36.\n",
      "WARNING: Method definition OM(Any) in module Main at /Users/ariel/Desktop/GRAVLENS/cosmology.jl:42 overwritten at /Users/ariel/Desktop/GRAVLENS/cosmology.jl:42.\n",
      "WARNING: Method definition OL(Any) in module Main at /Users/ariel/Desktop/GRAVLENS/cosmology.jl:43 overwritten at /Users/ariel/Desktop/GRAVLENS/cosmology.jl:43.\n",
      "WARNING: Method definition unnormalizedD(Any) in module Main at /Users/ariel/Desktop/GRAVLENS/cosmology.jl:46 overwritten at /Users/ariel/Desktop/GRAVLENS/cosmology.jl:46.\n",
      "WARNING: Method definition D(Any) in module Main at /Users/ariel/Desktop/GRAVLENS/cosmology.jl:52 overwritten at /Users/ariel/Desktop/GRAVLENS/cosmology.jl:52.\n",
      "WARNING: Method definition D2(Any) in module Main at /Users/ariel/Desktop/GRAVLENS/cosmology.jl:53 overwritten at /Users/ariel/Desktop/GRAVLENS/cosmology.jl:53.\n",
      "WARNING: Method definition F(Any) in module Main at /Users/ariel/Desktop/GRAVLENS/cosmology.jl:55 overwritten at /Users/ariel/Desktop/GRAVLENS/cosmology.jl:55.\n",
      "WARNING: Method definition F2(Any) in module Main at /Users/ariel/Desktop/GRAVLENS/cosmology.jl:56 overwritten at /Users/ariel/Desktop/GRAVLENS/cosmology.jl:56.\n"
     ]
    }
   ],
   "source": [
    "include(\"cosmology.jl\")\n",
    "using PyPlot, ODE, Dierckx, Roots\n",
    "set_bigfloat_precision(128);"
   ]
  },
  {
   "cell_type": "code",
   "execution_count": 96,
   "metadata": {
    "collapsed": false
   },
   "outputs": [
    {
     "name": "stderr",
     "output_type": "stream",
     "text": [
      "WARNING: Method definition rg(Any) in module Main at In[3]:1 overwritten at In[96]:1.\n",
      "WARNING: Method definition mnfw(Any, Any, Any) in module Main at In[3]:3 overwritten at In[96]:3.\n",
      "WARNING: Method definition rgnfw(Any, Any, Any) in module Main at In[3]:9 overwritten at In[96]:9.\n",
      "WARNING: Method definition rhonfw(Any, Any, Any) in module Main at In[3]:10 overwritten at In[96]:10.\n",
      "WARNING: Method definition vsphere(Any) in module Main at In[3]:11 overwritten at In[96]:11.\n",
      "WARNING: Method definition mproj(Any, Any) in module Main at In[3]:13 overwritten at In[96]:13.\n",
      "WARNING: Method definition proj_mnfw(Any, Any, Any) in module Main at In[3]:21 overwritten at In[96]:21.\n",
      "WARNING: Method definition ρnfw(Any, Any, Any) in module Main at In[3]:25 overwritten at In[96]:25.\n",
      "WARNING: Method definition thin_lens(Any, Any, Any) in module Main at In[3]:30 overwritten at In[96]:30.\n",
      "WARNING: Method definition thin_lens(Any, Any, Any, Any) in module Main at In[3]:30 overwritten at In[96]:30.\n",
      "WARNING: Method definition thin_lens(Any, Any, Any, Any, Any) in module Main at In[3]:30 overwritten at In[96]:30.\n",
      "WARNING: Method definition direct_lens(Any, Any, Any) in module Main at In[3]:53 overwritten at In[96]:53.\n",
      "WARNING: Method definition direct_lens(Any, Any, Any, Any) in module Main at In[3]:53 overwritten at In[96]:53.\n",
      "WARNING: Method definition direct_lens(Any, Any, Any, Any, Any) in module Main at In[3]:53 overwritten at In[96]:53.\n",
      "WARNING: Method definition opt_target(Any, Any, Any, Any, Any, Any, Any) in module Main at In[3]:85 overwritten at In[96]:85.\n",
      "WARNING: Method definition opt_target(Any, Any, Any, Any, Any, Any, Any, Any) in module Main at In[3]:85 overwritten at In[96]:85.\n",
      "WARNING: Method definition opt(Any, Any, Any, Any) in module Main at In[3]:125 overwritten at In[96]:125.\n",
      "WARNING: Method definition opt(Any, Any, Any, Any, Any) in module Main at In[3]:125 overwritten at In[96]:125.\n"
     ]
    },
    {
     "data": {
      "text/plain": [
       "opt (generic function with 2 methods)"
      ]
     },
     "execution_count": 96,
     "metadata": {},
     "output_type": "execute_result"
    }
   ],
   "source": [
    "rg(m) = 2.0.*m.*G./C./C\n",
    "function mnfw(ρ0, rs, r)\n",
    "    if r>200.0\n",
    "        r=200.0\n",
    "    end\n",
    "    rrs = rs+r\n",
    "    (log(rrs./rs)-r./rrs)*4.0*π*ρ0*rs*rs*rs\n",
    "end\n",
    "rgnfw(ρ0, rs, r) = rg(mnfw(ρ0, rs, r))\n",
    "rhonfw(ρ0, rs, r) = mnfw(ρ0, rs, r) ./ vsphere(r)\n",
    "vsphere(r) = 4/3*pi.*r.*r.*r\n",
    "function mproj(rs,r)\n",
    "    x = r/rs\n",
    "    if x>1.0\n",
    "        log(x./2.0)+2.0./sqrt(abs(1.0-x.*x))*atan(sqrt(abs( (x-1.0)./(x+1.0)  )))\n",
    "    else\n",
    "        log(x./2.0)+2.0./sqrt(abs(1.0-x.*x))*atanh(sqrt(abs( (x-1.0)./(x+1.0)  )))\n",
    "    end\n",
    "end\n",
    "function proj_mnfw(ρ0, rs, r)\n",
    "    f = 200.0./mproj(rs,200.0)\n",
    "    mproj(rs,r).*f\n",
    "end\n",
    "function ρnfw(ρ0, rs, r)\n",
    "    x = r./rs\n",
    "    ρ0./(x.*(1.0+x).^2)\n",
    "end\n",
    "\n",
    "function thin_lens(frg, r0, rmin_sim, endy=0.0, N=100)\n",
    "    const tgθ = rmin_sim/r0\n",
    "    const y0 = r0*tgθ\n",
    "    const θ=atan(tgθ)\n",
    "    const nθ = θ-2.0*frg(y0)/y0\n",
    "    const tgnθ = tan(nθ)\n",
    "    const nx = (endy-y0)/tgnθ\n",
    "    \n",
    "    lx = linspace(big\"0.0\",big\"1.0\",div(N,2)).^3\n",
    "    x = [-reverse(lx)*r0; lx*nx]\n",
    "    y = zeros(length(x))\n",
    "    for i in 1:length(x)\n",
    "        y[i] = if x[i]<0.0\n",
    "            tgθ*x[i]+y0\n",
    "        else\n",
    "            y[i] = y0+tgnθ*x[i]\n",
    "        end\n",
    "    end\n",
    "    x = [(xx) for xx in x]\n",
    "    y = [(yy) for yy in y]        \n",
    "    x, y\n",
    "end\n",
    "\n",
    "function direct_lens(frg, r0, rmin_sim, endy=0.0, N=100)\n",
    "    tx, ty = thin_lens(frg, r0, rmin_sim, endy, N)\n",
    "    ϕf = π-atan(ty[end]/tx[end])\n",
    "    function f(ϕ, y)\n",
    "        (u, v) = y\n",
    "        u_prime = v\n",
    "        v_prime = 3/2*frg(1/u)*u*u-u\n",
    "        [u_prime; v_prime]    \n",
    "    end\n",
    "    const u0 = 1.0/r0\n",
    "    const tgθ = rmin_sim/r0\n",
    "    const du0 = 1.0/(r0*abs(tgθ))\n",
    "    start = [u0; du0];\n",
    "    ϕl=linspace(0,ϕf,N)\n",
    "    \n",
    "    ϕ, y = ode45(f, start, ϕl, abstol=1.0e-24, reltol=1.0e-38);\n",
    "    u = map(y -> y[1], y);\n",
    "    x = [(v) for v in -cos(ϕ)./u]\n",
    "    y = [(v) for v in sin(ϕ)./u]        \n",
    "    spl = Spline1D(x,y, k=5, bc=\"extrapolate\")\n",
    "    \n",
    "    t = (endy-y[end-100])/(y[end]-y[end-100])\n",
    "    xmax = x[end-100]+t*(x[end]-x[end-100])\n",
    "    \n",
    "    #xmax = fzero(xx->evaluate(spl,xx)-endy, x[end]; order=8)    \n",
    "    lx = linspace(big\"0.0\",big\"1.0\",div(N,2)).^3\n",
    "    x = [-reverse(lx)*r0; lx*xmax]\n",
    "    y = evaluate(spl, x)\n",
    "\n",
    "    x,y\n",
    "end\n",
    "\n",
    "function opt_target(frg, fn, tx, ty, r0, rsim_min, fac, M=10)\n",
    "    display(\"!!!!!!!!!!!!!!!!!!!!!!!!!!\")\n",
    "    iter = 0\n",
    "    x = zeros(100000)\n",
    "    y = zeros(100000)\n",
    "    positive=false\n",
    "    while true\n",
    "        iter += 1\n",
    "        iter>5000 && error(\"maximum iterations reached!\")\n",
    "        x,y = fn(frg, r0, rsim_min, ty, 100000);\n",
    "\n",
    "        dx = tx-x[end]\n",
    "        if iter % M == 0\n",
    "            display(string(dx)*\", \"*string(fac)*\", \"*string(rsim_min))\n",
    "        end\n",
    "        if dx>0.0000000001\n",
    "            rsim_min +=fac\n",
    "            if positive\n",
    "                fac*=0.995\n",
    "            else\n",
    "                fac *= 0.5\n",
    "            end\n",
    "            positive=true\n",
    "            continue\n",
    "        end\n",
    "        if dx<-0.0000000001\n",
    "            rsim_min -=fac\n",
    "            if !positive\n",
    "                fac*=0.995\n",
    "            else\n",
    "                fac *= 0.5\n",
    "            end\n",
    "            positive=false\n",
    "            continue\n",
    "        end\n",
    "        break\n",
    "    end\n",
    "    rsim_min, fac, x, y\n",
    "end\n",
    "    \n",
    "function opt(frg, dy, r0, u_rsim_min, N=10000)\n",
    "    dux,duy = direct_lens(frg, r0, u_rsim_min, dy, 100000);\n",
    "    tx = dux[end]\n",
    "    ty = dy\n",
    "    \n",
    "    fac = 0.2\n",
    "    rsim_min, fac, tux, tuy = opt_target(frg, thin_lens, tx, ty, r0, u_rsim_min, fac)\n",
    "    @show rsim_min\n",
    "    rsim_min, fac, tdx, tdy = opt_target(frg, thin_lens, tx, -ty, r0, rsim_min, 0.05)\n",
    "    @show rsim_min\n",
    "    tdy = -tdy\n",
    "    rsim_min, fac, ddx, ddy = opt_target(frg, direct_lens, tx, -ty, r0, rsim_min, 0.03, 1)\n",
    "    @show rsim_min\n",
    "\n",
    "    ddy = -ddy\n",
    "    \n",
    "    tdx,tdy,tux,tuy, ddx,ddy,dux,duy \n",
    "end"
   ]
  },
  {
   "cell_type": "code",
   "execution_count": 97,
   "metadata": {
    "collapsed": false
   },
   "outputs": [
    {
     "name": "stderr",
     "output_type": "stream",
     "text": [
      "WARNING: Method definition _rg(Any) in module Main at In[92]:7 overwritten at In[97]:6.\n"
     ]
    }
   ],
   "source": [
    "r200mw = 200.0;\n",
    "cmw = 20;\n",
    "rsmw = r200mw/cmw;\n",
    "ρ0mw = 0.007607;\n",
    "mmw = mnfw(ρ0mw, rsmw, r200mw)\n",
    "_rg(r) = rgnfw(ρ0mw, rsmw, r);"
   ]
  },
  {
   "cell_type": "code",
   "execution_count": 102,
   "metadata": {
    "collapsed": false
   },
   "outputs": [
    {
     "name": "stderr",
     "output_type": "stream",
     "text": [
      "WARNING: Method definition mfac(Any, Any, Any, Any, Any) in module Main at In[100]:2 overwritten at In[102]:2.\n"
     ]
    },
    {
     "data": {
      "text/plain": [
       "mfac (generic function with 1 method)"
      ]
     },
     "execution_count": 102,
     "metadata": {},
     "output_type": "execute_result"
    }
   ],
   "source": [
    "function mfac(ρ0, rs, rmax, rp, N)\n",
    "    tot = zeros(N)\n",
    "    ptot = zeros(N)\n",
    "    @inbounds for i in 1:N\n",
    "        x=rand()*rp+1.0e-3\n",
    "        y=rand()*rp+1.0e-3\n",
    "        z=rand()*rmax+1.0e-3\n",
    "        r=sqrt(x*x+y*y+z*z)\n",
    "        r>rmax && continue\n",
    "        pr = sqrt(x*x+y*y)\n",
    "        pr > rp && continue\n",
    "        ρ=ρnfw(ρ0, rs, r)        \n",
    "        ptot[i] = ρ\n",
    "        if r <= rp\n",
    "            tot[i] = ρ\n",
    "        end\n",
    "    end\n",
    "    sum(ptot)/sum(tot)\n",
    "end"
   ]
  },
  {
   "cell_type": "code",
   "execution_count": 104,
   "metadata": {
    "collapsed": false
   },
   "outputs": [
    {
     "data": {
      "text/plain": [
       "1.980000817922615"
      ]
     },
     "execution_count": 104,
     "metadata": {},
     "output_type": "execute_result"
    }
   ],
   "source": [
    "mfac(ρ0mw, rsmw, 200.0, 4.0, 50000000)"
   ]
  },
  {
   "cell_type": "code",
   "execution_count": null,
   "metadata": {
    "collapsed": false
   },
   "outputs": [],
   "source": [
    "proj_mnfw(ρ0mw, rsmw, 4.0)"
   ]
  },
  {
   "cell_type": "code",
   "execution_count": 228,
   "metadata": {
    "collapsed": false
   },
   "outputs": [
    {
     "data": {
      "text/plain": [
       "4.852073395245454"
      ]
     },
     "execution_count": 228,
     "metadata": {},
     "output_type": "execute_result"
    }
   ],
   "source": [
    "mnfw(ρ0mw, rsmw, 4.0)"
   ]
  },
  {
   "cell_type": "code",
   "execution_count": 229,
   "metadata": {
    "collapsed": false
   },
   "outputs": [
    {
     "data": {
      "text/plain": [
       "1.7341302555647153"
      ]
     },
     "execution_count": 229,
     "metadata": {},
     "output_type": "execute_result"
    }
   ],
   "source": [
    "8.414/4.852"
   ]
  },
  {
   "cell_type": "code",
   "execution_count": 197,
   "metadata": {
    "collapsed": false
   },
   "outputs": [
    {
     "data": {
      "text/plain": [
       "2.779110849194724e-8"
      ]
     },
     "execution_count": 197,
     "metadata": {},
     "output_type": "execute_result"
    }
   ],
   "source": [
    "rhonfw(ρ0mw, rsmw, 204.8)/200"
   ]
  },
  {
   "cell_type": "code",
   "execution_count": 192,
   "metadata": {
    "collapsed": false
   },
   "outputs": [
    {
     "data": {
      "text/plain": [
       "2.7755000295049315e-8"
      ]
     },
     "execution_count": 192,
     "metadata": {},
     "output_type": "execute_result"
    }
   ],
   "source": [
    "RHO_CRIT"
   ]
  },
  {
   "cell_type": "code",
   "execution_count": 119,
   "metadata": {
    "collapsed": false
   },
   "outputs": [
    {
     "data": {
      "text/plain": [
       "10.0"
      ]
     },
     "execution_count": 119,
     "metadata": {},
     "output_type": "execute_result"
    }
   ],
   "source": [
    "rsmw"
   ]
  },
  {
   "cell_type": "code",
   "execution_count": 120,
   "metadata": {
    "collapsed": false
   },
   "outputs": [
    {
     "data": {
      "text/plain": [
       "199.99278652389665"
      ]
     },
     "execution_count": 120,
     "metadata": {},
     "output_type": "execute_result"
    }
   ],
   "source": [
    "mmw"
   ]
  },
  {
   "cell_type": "code",
   "execution_count": 91,
   "metadata": {
    "collapsed": false
   },
   "outputs": [
    {
     "data": {
      "text/plain": [
       "tosmall (generic function with 1 method)"
      ]
     },
     "execution_count": 91,
     "metadata": {},
     "output_type": "execute_result"
    }
   ],
   "source": [
    "rmin_sim = big\"4.0\"\n",
    "r0 = big\"2.7e6\"\n",
    "endy = big\"-1.0\"\n",
    "tosmall(x) = [Float64(xi) for xi in x]"
   ]
  },
  {
   "cell_type": "code",
   "execution_count": 92,
   "metadata": {
    "collapsed": false
   },
   "outputs": [
    {
     "name": "stderr",
     "output_type": "stream",
     "text": [
      "WARNING: Method definition _rg(Any) in module Main at In[4]:6 overwritten at In[92]:7.\n"
     ]
    }
   ],
   "source": [
    "r0 = big\"2.7e6\"\n",
    "r200mw = big\"200.0\";\n",
    "cmw = big\"20.0\";\n",
    "rsmw = r200mw/cmw;\n",
    "ρ0mw = big\"0.007607\";\n",
    "mmw = mnfw(ρ0mw, rsmw, r200mw)\n",
    "_rg(r) = rgnfw(ρ0mw, rsmw, r);\n",
    "dx,dy = direct_lens(_rg, r0, rmin_sim, endy, 100000);"
   ]
  },
  {
   "cell_type": "code",
   "execution_count": 93,
   "metadata": {
    "collapsed": false
   },
   "outputs": [],
   "source": [
    "ρ0mw = big\"0.007607\"*1.98;\n",
    "_rgg(r) = rgnfw(ρ0mw, rsmw, r);\n",
    "tx,ty = thin_lens(_rgg, r0, rmin_sim, endy, 100000);"
   ]
  },
  {
   "cell_type": "code",
   "execution_count": 94,
   "metadata": {
    "collapsed": false
   },
   "outputs": [
    {
     "data": {
      "image/png": "[encoded data removed]",
      "text/plain": [
       "PyPlot.Figure(PyObject <matplotlib.figure.Figure object at 0x31ca22490>)"
      ]
     },
     "metadata": {},
     "output_type": "display_data"
    },
    {
     "name": "stderr",
     "output_type": "stream",
     "text": [
      "WARNING: Base.writemime is deprecated.\n",
      "  likely near /Users/ariel/.julia/v0.5/IJulia/src/kernel.jl:35\n",
      "in show at /Users/ariel/.julia/v0.5/PyPlot/src/PyPlot.jl\n"
     ]
    }
   ],
   "source": [
    "hold(false)\n",
    "plot(tosmall(dx), tosmall(dy), \".b\", ms=0.02, lw=1.1)\n",
    "hold(true)\n",
    "plot(tosmall(tx), tosmall(ty), \".r\", ms=0.01, lw=0.01)\n",
    "hold(false)"
   ]
  },
  {
   "cell_type": "code",
   "execution_count": 8,
   "metadata": {
    "collapsed": false
   },
   "outputs": [
    {
     "data": {
      "text/plain": [
       "3.50647620452741222084e+06"
      ]
     },
     "execution_count": 8,
     "metadata": {},
     "output_type": "execute_result"
    }
   ],
   "source": [
    "dx[end]"
   ]
  },
  {
   "cell_type": "code",
   "execution_count": 9,
   "metadata": {
    "collapsed": false
   },
   "outputs": [
    {
     "data": {
      "text/plain": [
       "3.4854789778588080826e+06"
      ]
     },
     "execution_count": 9,
     "metadata": {},
     "output_type": "execute_result"
    }
   ],
   "source": [
    "dx[end-100]"
   ]
  },
  {
   "cell_type": "code",
   "execution_count": null,
   "metadata": {
    "collapsed": false
   },
   "outputs": [
    {
     "data": {
      "text/plain": [
       "\"!!!!!!!!!!!!!!!!!!!!!!!!!!\""
      ]
     },
     "metadata": {},
     "output_type": "display_data"
    },
    {
     "data": {
      "text/plain": [
       "\"-1.19931985348037103927e+06, 0.19117791567151193, 2.73558313430238755903\""
      ]
     },
     "metadata": {},
     "output_type": "display_data"
    },
    {
     "data": {
      "text/plain": [
       "\"-1.29984458611041741119e+06, 0.18183125231650604, 8.66250463301211415246e-01\""
      ]
     },
     "metadata": {},
     "output_type": "display_data"
    },
    {
     "data": {
      "text/plain": [
       "\"5.38416352359724494818e+05, 0.04367100480126935, -2.10969726987208734681e-01\""
      ]
     },
     "metadata": {},
     "output_type": "display_data"
    },
    {
     "data": {
      "text/plain": [
       "\"4.25162782904329105804e+03, 0.00016888822862647142, -1.84366246459053598477e-01\""
      ]
     },
     "metadata": {},
     "output_type": "display_data"
    },
    {
     "data": {
      "text/plain": [
       "\"-1.7906244212224464718, 1.2997464898686933e-6, -1.8418122122439958477e-01\""
      ]
     },
     "metadata": {},
     "output_type": "display_data"
    },
    {
     "data": {
      "text/plain": [
       "\"-8.27885388703407443245e-01, 1.9905404265373383e-8, -1.84181263062010452407e-01\""
      ]
     },
     "metadata": {},
     "output_type": "display_data"
    },
    {
     "data": {
      "text/plain": [
       "\"-4.86738236395467538387e-03, 1.5318995014482151e-10, -1.841812988277999888e-01\""
      ]
     },
     "metadata": {},
     "output_type": "display_data"
    },
    {
     "data": {
      "text/plain": [
       "\"3.93325121876841876656e-05, 1.1789341483606741e-12, -1.8418129904103052675e-01\""
      ]
     },
     "metadata": {},
     "output_type": "display_data"
    },
    {
     "data": {
      "text/plain": [
       "\"-5.20532466907752677798e-07, 1.805518307477304e-14, -1.84181299039298615369e-01\""
      ]
     },
     "metadata": {},
     "output_type": "display_data"
    },
    {
     "data": {
      "text/plain": [
       "\"1.83717929758131504059e-10, 2.7651216678799607e-16, -1.8418129903932121952e-01\""
      ]
     },
     "metadata": {},
     "output_type": "display_data"
    },
    {
     "data": {
      "text/plain": [
       "\"!!!!!!!!!!!!!!!!!!!!!!!!!!\""
      ]
     },
     "metadata": {},
     "output_type": "display_data"
    },
    {
     "data": {
      "text/plain": [
       "\"3.15130364879914731646e+07, 0.02401732608938592, 6.23534830834943711866e-02\""
      ]
     },
     "metadata": {},
     "output_type": "display_data"
    },
    {
     "data": {
      "text/plain": [
       "\"8.14874158368777308806e+06, 0.02284312215031483, 2.97194270897712479546e-01\""
      ]
     },
     "metadata": {},
     "output_type": "display_data"
    },
    {
     "data": {
      "text/plain": [
       "\"5.40743280471187924559e+06, 0.0217263248886315, 5.20553723234378112384e-01\""
      ]
     },
     "metadata": {},
     "output_type": "display_data"
    },
    {
     "data": {
      "text/plain": [
       "\"4.29509024651905341261e+06, 0.020664127699368054, 7.32993161087067508969e-01\""
      ]
     },
     "metadata": {},
     "output_type": "display_data"
    },
    {
     "data": {
      "text/plain": [
       "\"3.66387519778462591103e+06, 0.019653861192107325, 9.3504646253921420171e-01\""
      ]
     },
     "metadata": {},
     "output_type": "display_data"
    },
    {
     "data": {
      "text/plain": [
       "\"3.23937408353486352325e+06, 0.01869298648258137, 1.12722140444440541379\""
      ]
     },
     "metadata": {},
     "output_type": "display_data"
    },
    {
     "data": {
      "text/plain": [
       "\"2.92267167374962852318e+06, 0.01777908881224288, 1.3100009385121039624\""
      ]
     },
     "metadata": {},
     "output_type": "display_data"
    },
    {
     "data": {
      "text/plain": [
       "\"2.66943730912685647218e+06, 0.016909871479774866, 1.48384440500570573501\""
      ]
     },
     "metadata": {},
     "output_type": "display_data"
    },
    {
     "data": {
      "text/plain": [
       "\"2.45687033680480247358e+06, 0.016083150069288107, 1.64918868710305731881\""
      ]
     },
     "metadata": {},
     "output_type": "display_data"
    },
    {
     "data": {
      "text/plain": [
       "\"2.27206916700050441068e+06, 0.0152968469607012, 1.80644930882043878528\""
      ]
     },
     "metadata": {},
     "output_type": "display_data"
    },
    {
     "data": {
      "text/plain": [
       "\"2.10720361736667154537e+06, 0.014548986108507463, 1.9560214792591858699\""
      ]
     },
     "metadata": {},
     "output_type": "display_data"
    },
    {
     "data": {
      "text/plain": [
       "\"1.95726015282105278936e+06, 0.013837688075807236, 2.09828108579923126387\""
      ]
     },
     "metadata": {},
     "output_type": "display_data"
    },
    {
     "data": {
      "text/plain": [
       "\"1.81889069077875860614e+06, 0.013161165311125675, 2.23358563873554320138\""
      ]
     },
     "metadata": {},
     "output_type": "display_data"
    },
    {
     "data": {
      "text/plain": [
       "\"1.68978229790796526493e+06, 0.012517717656146331, 2.36227516973141178505\""
      ]
     },
     "metadata": {},
     "output_type": "display_data"
    }
   ],
   "source": [
    "dtx,dty,utx,uty, ddx,ddy,udx,udy = opt(_rg, endy, r0, rmin_sim, big\"100000\"); # setup1\n",
    "#opt(frg, dy, r0, u_rsim_min, N=10000)"
   ]
  },
  {
   "cell_type": "code",
   "execution_count": null,
   "metadata": {
    "collapsed": false
   },
   "outputs": [],
   "source": [
    "1+1"
   ]
  },
  {
   "cell_type": "code",
   "execution_count": 10,
   "metadata": {
    "collapsed": false
   },
   "outputs": [
    {
     "data": {
      "text/plain": [
       "-94999.99999999748"
      ]
     },
     "execution_count": 10,
     "metadata": {},
     "output_type": "execute_result"
    }
   ],
   "source": [
    "ddy[end]"
   ]
  },
  {
   "cell_type": "code",
   "execution_count": 11,
   "metadata": {
    "collapsed": false
   },
   "outputs": [
    {
     "data": {
      "text/plain": [
       "-94999.99999999255"
      ]
     },
     "execution_count": 11,
     "metadata": {},
     "output_type": "execute_result"
    }
   ],
   "source": [
    "udy[end]"
   ]
  },
  {
   "cell_type": "code",
   "execution_count": 12,
   "metadata": {
    "collapsed": false
   },
   "outputs": [
    {
     "data": {
      "text/plain": [
       "-95000.0"
      ]
     },
     "execution_count": 12,
     "metadata": {},
     "output_type": "execute_result"
    }
   ],
   "source": [
    "dty[end]"
   ]
  },
  {
   "cell_type": "code",
   "execution_count": 13,
   "metadata": {
    "collapsed": false
   },
   "outputs": [
    {
     "data": {
      "text/plain": [
       "-95000.0"
      ]
     },
     "execution_count": 13,
     "metadata": {},
     "output_type": "execute_result"
    }
   ],
   "source": [
    "uty[end]"
   ]
  },
  {
   "cell_type": "code",
   "execution_count": 14,
   "metadata": {
    "collapsed": false
   },
   "outputs": [
    {
     "data": {
      "image/png": "[encoded data removed]",
      "text/plain": [
       "PyPlot.Figure(PyObject <matplotlib.figure.Figure object at 0x31846f490>)"
      ]
     },
     "metadata": {},
     "output_type": "display_data"
    },
    {
     "name": "stderr",
     "output_type": "stream",
     "text": [
      "WARNING: Base.writemime is deprecated.\n",
      "  likely near /Users/ariel/.julia/v0.5/IJulia/src/kernel.jl:35\n",
      "in show at /Users/ariel/.julia/v0.5/PyPlot/src/PyPlot.jl\n"
     ]
    },
    {
     "data": {
      "text/plain": [
       "PyObject <matplotlib.legend.Legend object at 0x3164a6450>"
      ]
     },
     "execution_count": 14,
     "metadata": {},
     "output_type": "execute_result"
    },
    {
     "name": "stderr",
     "output_type": "stream",
     "text": [
      "WARNING: Base.writemime is deprecated.\n",
      "  likely near /Users/ariel/.julia/v0.5/IJulia/src/kernel.jl:35\n",
      "WARNING: Base.writemime is deprecated.\n",
      "  likely near /Users/ariel/.julia/v0.5/IJulia/src/kernel.jl:35\n",
      "WARNING: Base.writemime is deprecated.\n",
      "  likely near /Users/ariel/.julia/v0.5/IJulia/src/kernel.jl:35\n",
      "WARNING: Base.writemime is deprecated.\n",
      "  likely near /Users/ariel/.julia/v0.5/IJulia/src/kernel.jl:35\n",
      "WARNING: Base.writemime is deprecated.\n",
      "  likely near /Users/ariel/.julia/v0.5/IJulia/src/kernel.jl:35\n",
      "WARNING: Base.writemime is deprecated.\n",
      "  likely near /Users/ariel/.julia/v0.5/IJulia/src/kernel.jl:35\n",
      "WARNING: Base.writemime is deprecated.\n",
      "  likely near /Users/ariel/.julia/v0.5/IJulia/src/kernel.jl:35\n",
      "WARNING: Base.writemime is deprecated.\n",
      "  likely near /Users/ariel/.julia/v0.5/IJulia/src/kernel.jl:35\n",
      "WARNING: Base.writemime is deprecated.\n",
      "  likely near /Users/ariel/.julia/v0.5/IJulia/src/kernel.jl:35\n",
      "WARNING: Base.writemime is deprecated.\n",
      "  likely near /Users/ariel/.julia/v0.5/IJulia/src/kernel.jl:35\n"
     ]
    }
   ],
   "source": [
    "tosmall(x) = [Float64(xi) for xi in x]\n",
    "plot(tosmall(udx)/1e10,tosmall(udy),\"-b\")\n",
    "hold(true)\n",
    "plot(tosmall(ddx)/1e10,tosmall(ddy),\"-r\")\n",
    "plot(tosmall(utx)/1e10,tosmall(uty),\":k\", lw=3)\n",
    "plot(tosmall(dtx)/1e10,tosmall(dty),\":k\", lw=3)\n",
    "plot(0,0,\"ok\",ms=5)\n",
    "hold(false)\n",
    "grid(true)\n",
    "xlabel(\"X/1e10 [natural units]\")\n",
    "ylabel(\"Y [natural units]\")\n",
    "legend([\"Exact upper ray\",\"Exact lower ray\",\"Thins lens\"])\n",
    "#xlim(-5e-5,5e-5)\n",
    "#ylim(100062,100072)"
   ]
  },
  {
   "cell_type": "code",
   "execution_count": 15,
   "metadata": {
    "collapsed": false
   },
   "outputs": [
    {
     "data": {
      "text/plain": [
       "len (generic function with 1 method)"
      ]
     },
     "execution_count": 15,
     "metadata": {},
     "output_type": "execute_result"
    }
   ],
   "source": [
    "function len(x,y)\n",
    "    tobig(x) = [BigFloat(xi) for xi in x]\n",
    "    dx = tobig(x[2:end]-x[1:(end-1)])\n",
    "    dy = tobig(y[2:end]-y[1:(end-1)])\n",
    "    cx = tobig(0.5*(x[1:(end-1)]+x[2:end]))\n",
    "    cy = tobig(0.5*(y[1:(end-1)]+y[2:end]))\n",
    "    cr = sqrt(cx.*cx+cy.*cy)\n",
    "    dr = sqrt(dx.*dx+dy.*dy)\n",
    "    gf = 1./sqrt(1.0-1.0./cr)\n",
    "    l = sum(dr)\n",
    "    gl = sum(dr.*gf)\n",
    "    Float64(l), Float64(gl)\n",
    "end"
   ]
  },
  {
   "cell_type": "code",
   "execution_count": 16,
   "metadata": {
    "collapsed": false
   },
   "outputs": [
    {
     "data": {
      "text/plain": [
       "1.3943595886230469"
      ]
     },
     "execution_count": 16,
     "metadata": {},
     "output_type": "execute_result"
    }
   ],
   "source": [
    "dd = len(utx,uty)[2] - len(dtx,dty)[2]"
   ]
  },
  {
   "cell_type": "code",
   "execution_count": 17,
   "metadata": {
    "collapsed": false
   },
   "outputs": [
    {
     "data": {
      "text/plain": [
       "1.3943634033203125"
      ]
     },
     "execution_count": 17,
     "metadata": {},
     "output_type": "execute_result"
    }
   ],
   "source": [
    "dt = len(udx,udy)[2] - len(ddx,ddy)[2]"
   ]
  },
  {
   "cell_type": "code",
   "execution_count": 18,
   "metadata": {
    "collapsed": false
   },
   "outputs": [
    {
     "data": {
      "text/plain": [
       "-5.80231745388980554247744203574527228223e-11"
      ]
     },
     "execution_count": 18,
     "metadata": {},
     "output_type": "execute_result"
    }
   ],
   "source": [
    "_d1 = ddx[end]-dtx[end]"
   ]
  },
  {
   "cell_type": "code",
   "execution_count": 19,
   "metadata": {
    "collapsed": false
   },
   "outputs": [
    {
     "data": {
      "text/plain": [
       "5.738408138201406226821871991773136188541e-11"
      ]
     },
     "execution_count": 19,
     "metadata": {},
     "output_type": "execute_result"
    }
   ],
   "source": [
    "_d2 = udx[end]-utx[end]"
   ]
  },
  {
   "cell_type": "code",
   "execution_count": 20,
   "metadata": {
    "collapsed": false
   },
   "outputs": [
    {
     "data": {
      "text/plain": [
       "3.814697265625e-6"
      ]
     },
     "execution_count": 20,
     "metadata": {},
     "output_type": "execute_result"
    }
   ],
   "source": [
    "dt-dd"
   ]
  },
  {
   "cell_type": "code",
   "execution_count": 21,
   "metadata": {
    "collapsed": false
   },
   "outputs": [
    {
     "data": {
      "text/plain": [
       "1.154072559209121176929931402751840847077e-10"
      ]
     },
     "execution_count": 21,
     "metadata": {},
     "output_type": "execute_result"
    }
   ],
   "source": [
    "_d2-_d1"
   ]
  },
  {
   "cell_type": "code",
   "execution_count": null,
   "metadata": {
    "collapsed": true
   },
   "outputs": [],
   "source": []
  },
  {
   "cell_type": "code",
   "execution_count": null,
   "metadata": {
    "collapsed": true
   },
   "outputs": [],
   "source": [
    "setup 1 - 3.81e-6\n",
    "setup 2 - 3.81e-6"
   ]
  }
 ],
 "metadata": {
  "anaconda-cloud": {},
  "kernelspec": {
   "display_name": "Julia 0.5.0-rc3",
   "language": "julia",
   "name": "julia-0.5"
  },
  "language_info": {
   "file_extension": ".jl",
   "mimetype": "application/julia",
   "name": "julia",
   "version": "0.5.0"
  }
 },
 "nbformat": 4,
 "nbformat_minor": 0
}

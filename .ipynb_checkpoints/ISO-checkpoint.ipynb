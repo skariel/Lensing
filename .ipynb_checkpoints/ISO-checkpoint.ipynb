{
 "cells": [
  {
   "cell_type": "code",
   "execution_count": 1,
   "metadata": {
    "collapsed": false
   },
   "outputs": [
    {
     "data": {
      "text/plain": [
       "2"
      ]
     },
     "execution_count": 1,
     "metadata": {},
     "output_type": "execute_result"
    }
   ],
   "source": [
    "1+1"
   ]
  },
  {
   "cell_type": "code",
   "execution_count": 2,
   "metadata": {
    "collapsed": false,
    "scrolled": true
   },
   "outputs": [],
   "source": [
    "include(\"src/gravlens.jl\");"
   ]
  },
  {
   "cell_type": "code",
   "execution_count": 3,
   "metadata": {
    "collapsed": false
   },
   "outputs": [
    {
     "name": "stderr",
     "output_type": "stream",
     "text": [
      "WARNING: Method definition A(Any) in module Main at /home/skariel/Desktop/Lensing/src/cosmology.jl:40 overwritten at In[3]:9.\n"
     ]
    }
   ],
   "source": [
    "const mvir = 200.0\n",
    "const rscale = 10.0\n",
    "const rvir = 200.0\n",
    "const GC = G/C/C\n",
    "m(r) = tnfw_m(mvir, rscale, r, rvir);\n",
    "rho(r) = tnfw_ρ(mvir, rscale, r, rvir);\n",
    "vc2(r) = G*m(r)/r\n",
    "pressure(r) = 0.5*rho(r)*vc2(r);\n",
    "A(r) = 1./(1-2*GC*m(r)/r);\n",
    "function calc_tr_un(r)\n",
    "    a,b = quadgk(r->sqrt(A(r))/r,rvir,r, reltol=1e-27, abstol=1.0e-27)\n",
    "    exp(a)\n",
    "end\n",
    "function calc_tr_sch(r)\n",
    "    sr = sqrt(r)\n",
    "    (0.5*(sr+sqrt(r-4*(GC*mvir/2))))^2\n",
    "end\n",
    "const r_fac = calc_tr_sch(200.0e7)/calc_tr_un(200.0e7)\n",
    "function calc_tr(r)\n",
    "    r_fac.*calc_tr_un(r)\n",
    "end\n",
    "b_integrand(r) = 2*GC/r/r*m(r)*A(r);\n",
    "B(r) = exp(-quadgk(b_integrand, r, 1.0e10, reltol=1e-18, abstol=1e-18)[1]);\n",
    "bp_integrand(r) = 2*GC/r/r*(m(r)+4*π*r*r*r*pressure(r)/C/C)*A(r);\n",
    "Bp(r) = exp(-quadgk(bp_integrand, r, 1.0e10, reltol=1e-18, abstol=1e-18)[1]);"
   ]
  },
  {
   "cell_type": "code",
   "execution_count": 4,
   "metadata": {
    "collapsed": false
   },
   "outputs": [],
   "source": [
    "r = 10.^linspace(log10(0.1), log10(5.0e6), 10000);\n",
    "tr = open(\"tr.data\",\"r\") do f\n",
    "    tr = zeros(10000)\n",
    "    read!(f, tr)\n",
    "    tr\n",
    "end;\n",
    "# tr = [Float64(calc_tr(big(ri))) for ri in r];\n",
    "# open(\"tr.data\",\"w\") do f\n",
    "#    write(f, tr)\n",
    "# end;\n",
    "\n",
    "const spl = Spline1D(tr, r, k=5, bc=\"extrapolate\");\n",
    "fast_r(tr) = evaluate(spl, tr);"
   ]
  },
  {
   "cell_type": "code",
   "execution_count": 5,
   "metadata": {
    "collapsed": false
   },
   "outputs": [
    {
     "data": {
      "text/plain": [
       "born_fermat (generic function with 2 methods)"
      ]
     },
     "execution_count": 5,
     "metadata": {},
     "output_type": "execute_result"
    }
   ],
   "source": [
    "function new_fermat(feta, fdeta, rs, tgα, N=100; reltol=1e-21, abstol=1e-21, ext=1.0)\n",
    "    function f(x,yvec)\n",
    "        (y, v) = yvec\n",
    "        y_prime = v\n",
    "\n",
    "        r = sqrt(x*x+y*y)\n",
    "        eta = feta(r)\n",
    "        deta = fdeta(r)\n",
    "        y_prime2 = y_prime*y_prime\n",
    "        yp1 = y_prime2+1.0\n",
    "        \n",
    "        _a = 1-y_prime2/yp1\n",
    "        _b = deta/eta/r*(yp1*y - y_prime*x)\n",
    "        v_prime = _b/_a\n",
    "        [y_prime, v_prime]\n",
    "    end\n",
    "    _x = linspace(0.0,1,div(N,2)).^2\n",
    "    _l = [-reverse(_x)*rs ; _x*rs.*ext]\n",
    "    x, u = ode45(f, [0.0; tgα], _l; reltol=reltol, abstol=abstol)\n",
    "    y = map(u -> u[1], u);\n",
    "    dy = map(u -> u[2], u);\n",
    "    x,y\n",
    "end\n",
    "function interp1(x,y,x1)\n",
    "    i = searchsortedfirst(x,x1)-1\n",
    "    i<1 && return y[1]\n",
    "    i>=length(x) && return y[end]\n",
    "    \n",
    "    xi = x[i]\n",
    "    xf = x[i+1]\n",
    "    yi = y[i]\n",
    "    yf = y[i+1]\n",
    "   \n",
    "    return yi+(yf-yi)/(xf-xi)*(x1-xi)\n",
    "end\n",
    "function interp_arr(x,y,x1)\n",
    "    [interp1(x,y,xi) for xi in x1]\n",
    "end\n",
    "function born_fermat(feta, fdeta, fyx, rs, tgα, N=100; reltol=1e-21, abstol=1e-21, ext=1.0)\n",
    "    function f(x,yvec)\n",
    "        (y, v) = yvec\n",
    "        y_prime = v\n",
    "\n",
    "        y = fyx(x)\n",
    "        #y = (x+rs)*tgα\n",
    "        r = sqrt(x*x+y*y)\n",
    "        eta = feta(r)\n",
    "        deta = fdeta(r)\n",
    "        y_prime2 = y_prime*y_prime\n",
    "        yp1 = y_prime2+1.0\n",
    "        \n",
    "        _a = 1-y_prime2/yp1\n",
    "        _b = deta/eta/r*(yp1*y - y_prime*x)\n",
    "        v_prime = _b/_a\n",
    "        [y_prime, v_prime]\n",
    "    end\n",
    "    _x = linspace(0.0,1,div(N,2)).^2\n",
    "    _l = [-reverse(_x)*rs ; _x*rs.*ext]\n",
    "    x, u = ode45(f, [0.0; tgα], _l; reltol=reltol, abstol=abstol)\n",
    "    y = map(u -> u[1], u);\n",
    "    dy = map(u -> u[2], u);\n",
    "    x,y\n",
    "end"
   ]
  },
  {
   "cell_type": "code",
   "execution_count": 6,
   "metadata": {
    "collapsed": false
   },
   "outputs": [],
   "source": [
    "function Ltr(tr)\n",
    "    const r = fast_r(tr)    \n",
    "    const g = r.*r./tr./tr\n",
    "    const f = B(r)\n",
    "    Float64(sqrt(g./f))\n",
    "end\n",
    "r = 10.^linspace(log10(1.0), log10(4.99e6), 10000);\n",
    "_ltr = [Float64(Ltr(big(ri))) for ri in r];\n",
    "const spl_ltr = Spline1D(r, _ltr, k=5, bc=\"extrapolate\");\n",
    "fast_ltr(r) = evaluate(spl_ltr, r);\n",
    "fast_dltr(r) = derivative(spl_ltr, r);\n",
    "\n",
    "rs = 1.0e6\n",
    "b = 3.0\n",
    "tgα = b/rs\n",
    "N = 1000000\n",
    "x, y = new_fermat(fast_ltr, fast_dltr, rs, tgα, N; reltol=1e-17, abstol=1e-17);"
   ]
  },
  {
   "cell_type": "code",
   "execution_count": 7,
   "metadata": {
    "collapsed": false
   },
   "outputs": [],
   "source": [
    "function Ltrp(tr)\n",
    "    const r = fast_r(tr)    \n",
    "    const g = r.*r./tr./tr\n",
    "    const f = Bp(r)\n",
    "    Float64(sqrt(g./f))\n",
    "end\n",
    "r = 10.^linspace(log10(1.0), log10(4.99e6), 10000);\n",
    "_ltrp = [Float64(Ltr(big(ri))) for ri in r];\n",
    "const spl_ltrp = Spline1D(r, _ltrp, k=5, bc=\"error\");\n",
    "fast_ltrp(r) = evaluate(spl_ltrp, r);\n",
    "fast_dltrp(r) = derivative(spl_ltrp, r);\n",
    "\n",
    "rs = 1.0e6\n",
    "b = 3.0\n",
    "tgα = b/rs\n",
    "N = 1000000\n",
    "xp, yp = new_fermat(fast_ltrp, fast_dltrp, rs, tgα, N; reltol=1e-17, abstol=1e-17);"
   ]
  },
  {
   "cell_type": "code",
   "execution_count": 8,
   "metadata": {
    "collapsed": false
   },
   "outputs": [],
   "source": [
    "θ = 0.0\n",
    "nx,ny,_ = numeric_el(m, rho, θ, rs, tgα, N; abstol=1.0e-17, reltol=1.0e-17, ϕm=π);\n",
    "ixs = find(abs(nx).<rs);\n",
    "nx = nx[ixs]\n",
    "ny = ny[ixs];"
   ]
  },
  {
   "cell_type": "code",
   "execution_count": 9,
   "metadata": {
    "collapsed": true
   },
   "outputs": [],
   "source": [
    "phi(r) = tnfw_potential(mvir, rscale, r, rvir)/C/C;\n",
    "r = 10.^linspace(log10(1.0), log10(4.99e6), 10000);"
   ]
  },
  {
   "cell_type": "code",
   "execution_count": 10,
   "metadata": {
    "collapsed": true
   },
   "outputs": [],
   "source": [
    "_eta = [1-2*Float64(phi(ri)) for ri in r];\n",
    "const spl_eta = Spline1D(r, _eta, k=5, bc=\"error\");\n",
    "fast_eta(r) = evaluate(spl_eta, r);\n",
    "fast_deta(r) = derivative(spl_eta, r);"
   ]
  },
  {
   "cell_type": "code",
   "execution_count": 11,
   "metadata": {
    "collapsed": false
   },
   "outputs": [],
   "source": [
    "rs = 1.0e6\n",
    "b = 3.0\n",
    "tgα = b/rs\n",
    "N = 1000000\n",
    "const (x1, y1) = new_fermat(fast_eta, fast_deta, rs, tgα, N; reltol=1e-17, abstol=1e-17);\n",
    "\n",
    "const _xx = deepcopy(x1)\n",
    "const _yy = (_xx-_xx[1])*tgα\n",
    "fyx1(x) = interp1(_xx, _yy, x);\n",
    "x1b, y1b = born_fermat(fast_eta, fast_deta, fyx1, rs, tgα, N; reltol=1e-17, abstol=1e-17);"
   ]
  },
  {
   "cell_type": "code",
   "execution_count": 12,
   "metadata": {
    "collapsed": false
   },
   "outputs": [],
   "source": [
    "const _xx2 = deepcopy(x1b)\n",
    "const _yy2 = deepcopy(y1b)\n",
    "fyx2(x) = interp1(_xx2, _yy2, x);\n",
    "x2b, y2b = born_fermat(fast_eta, fast_deta, fyx2, rs, tgα, N; reltol=1e-17, abstol=1e-17);"
   ]
  },
  {
   "cell_type": "code",
   "execution_count": 23,
   "metadata": {
    "collapsed": false
   },
   "outputs": [
    {
     "data": {
      "image/png": "[encoded data removed]",
      "text/plain": [
       "PyPlot.Figure(PyObject <matplotlib.figure.Figure object at 0x7f4f985e8d68>)"
      ]
     },
     "metadata": {},
     "output_type": "display_data"
    },
    {
     "data": {
      "text/plain": [
       "PyObject <matplotlib.legend.Legend object at 0x7f4f984c0be0>"
      ]
     },
     "execution_count": 23,
     "metadata": {},
     "output_type": "execute_result"
    }
   ],
   "source": [
    "plot(x,y,\"-y\", lw=5.3, label=\"Fermat, full GR, no pressure\")\n",
    "hold(true)\n",
    "plot(nx,ny,\"--r\", label=\"Matthias, latest version\")\n",
    "plot(x1,y1,\"-r\",lw=3.0, label=\"Fermat, 1st order phi\")\n",
    "#plot(xp,yp,\"-k\", label=\"Fermat, full GR, pressure\")\n",
    "plot(x1b,y1b,\"-c\", lw=3.9, label=\"Born\")\n",
    "#plot(x1b,y1b,\"-y\", lw=3.9, label=\"Born\")\n",
    "#xlim(-100,150)\n",
    "#ylim(2.9997,3.00013)\n",
    "grid(true)\n",
    "xlabel(\"X [Kpc/h]\")\n",
    "ylabel(\"Y [Kpc/h]\")\n",
    "legend(loc=4)"
   ]
  },
  {
   "cell_type": "code",
   "execution_count": 24,
   "metadata": {
    "collapsed": false
   },
   "outputs": [
    {
     "name": "stderr",
     "output_type": "stream",
     "text": [
      "WARNING: Method definition get_angle(Any, Any, Any, Any) in module Main at In[22]:2 overwritten at In[24]:2.\n",
      "WARNING: Method definition ray_deflection(Any, Any) in module Main at In[22]:7 overwritten at In[24]:7.\n"
     ]
    },
    {
     "data": {
      "text/plain": [
       "ray_deflection (generic function with 1 method)"
      ]
     },
     "execution_count": 24,
     "metadata": {},
     "output_type": "execute_result"
    }
   ],
   "source": [
    "function get_angle(x0,y0, x1,y1)\n",
    "    dx = x1-x0\n",
    "    dy = y1-y0\n",
    "    atan2(dy,dx)\n",
    "end\n",
    "function ray_deflection(x,y)\n",
    "    get_angle(x[5],y[5], x[10],y[10]) - get_angle(x[end-10],y[end-10], x[end-5],y[end-5])\n",
    "end"
   ]
  },
  {
   "cell_type": "code",
   "execution_count": 15,
   "metadata": {
    "collapsed": false
   },
   "outputs": [
    {
     "data": {
      "text/plain": [
       "4.0941023780685905e-6"
      ]
     },
     "execution_count": 15,
     "metadata": {},
     "output_type": "execute_result"
    }
   ],
   "source": [
    "d = ray_deflection(x,y)"
   ]
  },
  {
   "cell_type": "code",
   "execution_count": 16,
   "metadata": {
    "collapsed": false
   },
   "outputs": [
    {
     "data": {
      "text/plain": [
       "4.094070250461133e-6"
      ]
     },
     "execution_count": 16,
     "metadata": {},
     "output_type": "execute_result"
    }
   ],
   "source": [
    "d1 = ray_deflection(x1,y1)"
   ]
  },
  {
   "cell_type": "code",
   "execution_count": 17,
   "metadata": {
    "collapsed": false
   },
   "outputs": [
    {
     "data": {
      "text/plain": [
       "4.0941033158306596e-6"
      ]
     },
     "execution_count": 17,
     "metadata": {},
     "output_type": "execute_result"
    }
   ],
   "source": [
    "d1b = ray_deflection(x1b,y1b)"
   ]
  },
  {
   "cell_type": "code",
   "execution_count": 18,
   "metadata": {
    "collapsed": false
   },
   "outputs": [
    {
     "data": {
      "text/plain": [
       "4.0940702520709775e-6"
      ]
     },
     "execution_count": 18,
     "metadata": {},
     "output_type": "execute_result"
    }
   ],
   "source": [
    "d2b = ray_deflection(x2b,y2b)"
   ]
  },
  {
   "cell_type": "code",
   "execution_count": 19,
   "metadata": {
    "collapsed": false
   },
   "outputs": [
    {
     "data": {
      "text/plain": [
       "-2.2905193434299056e-7"
      ]
     },
     "execution_count": 19,
     "metadata": {},
     "output_type": "execute_result"
    }
   ],
   "source": [
    "(d-d1b)/d"
   ]
  },
  {
   "cell_type": "code",
   "execution_count": 20,
   "metadata": {
    "collapsed": false
   },
   "outputs": [
    {
     "data": {
      "text/plain": [
       "7.847289708626458e-6"
      ]
     },
     "execution_count": 20,
     "metadata": {},
     "output_type": "execute_result"
    }
   ],
   "source": [
    "(d-d1)/d"
   ]
  },
  {
   "cell_type": "code",
   "execution_count": 21,
   "metadata": {
    "collapsed": false
   },
   "outputs": [
    {
     "data": {
      "text/plain": [
       "7.846896497999838e-6"
      ]
     },
     "execution_count": 21,
     "metadata": {},
     "output_type": "execute_result"
    }
   ],
   "source": [
    "(d-d2b)/d"
   ]
  },
  {
   "cell_type": "code",
   "execution_count": null,
   "metadata": {
    "collapsed": true
   },
   "outputs": [],
   "source": []
  }
 ],
 "metadata": {
  "anaconda-cloud": {},
  "kernelspec": {
   "display_name": "Julia 0.5.0",
   "language": "julia",
   "name": "julia-0.5"
  },
  "language_info": {
   "file_extension": ".jl",
   "mimetype": "application/julia",
   "name": "julia",
   "version": "0.5.0"
  }
 },
 "nbformat": 4,
 "nbformat_minor": 1
}

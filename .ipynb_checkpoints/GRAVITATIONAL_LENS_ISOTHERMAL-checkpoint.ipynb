{
 "cells": [
  {
   "cell_type": "code",
   "execution_count": 1,
   "metadata": {
    "collapsed": false
   },
   "outputs": [
    {
     "data": {
      "text/plain": [
       "2"
      ]
     },
     "execution_count": 1,
     "metadata": {},
     "output_type": "execute_result"
    }
   ],
   "source": [
    "1+1"
   ]
  },
  {
   "cell_type": "code",
   "execution_count": null,
   "metadata": {
    "collapsed": false
   },
   "outputs": [],
   "source": [
    "include(\"cosmology.jl\")\n",
    "using PyPlot, ODE, Dierckx, Roots\n",
    "set_bigfloat_precision(64);"
   ]
  },
  {
   "cell_type": "code",
   "execution_count": 17,
   "metadata": {
    "collapsed": false
   },
   "outputs": [
    {
     "name": "stderr",
     "output_type": "stream",
     "text": [
      "WARNING: Method definition rg(Any) in module Main at In[3]:1 overwritten at In[17]:1.\n",
      "WARNING: Method definition miso(Any, Any, Any) in module Main at In[3]:3 overwritten at In[17]:3.\n",
      "WARNING: Method definition rgiso(Any, Any, Any) in module Main at In[3]:5 overwritten at In[17]:5.\n",
      "WARNING: Method definition ρiso(Any, Any, Any) in module Main at In[3]:7 overwritten at In[17]:7.\n",
      "WARNING: Method definition thin_lens(Any, Any, Any) in module Main at In[3]:15 overwritten at In[17]:15.\n",
      "WARNING: Method definition thin_lens(Any, Any, Any, Any) in module Main at In[3]:15 overwritten at In[17]:15.\n",
      "WARNING: Method definition thin_lens(Any, Any, Any, Any, Any) in module Main at In[3]:15 overwritten at In[17]:15.\n",
      "WARNING: Method definition direct_lens(Any, Any, Any) in module Main at In[3]:38 overwritten at In[17]:38.\n",
      "WARNING: Method definition direct_lens(Any, Any, Any, Any) in module Main at In[3]:38 overwritten at In[17]:38.\n",
      "WARNING: Method definition direct_lens(Any, Any, Any, Any, Any) in module Main at In[3]:38 overwritten at In[17]:38.\n",
      "WARNING: Method definition analytic_lens(Any, Any, Any, Any) in module Main at In[12]:2 overwritten at In[17]:70.\n"
     ]
    },
    {
     "data": {
      "text/plain": [
       "analytic_lens (generic function with 1 method)"
      ]
     },
     "execution_count": 17,
     "metadata": {},
     "output_type": "execute_result"
    }
   ],
   "source": [
    "rg(m) = 2.0.*m.*G./C./C\n",
    "function miso(M0, R, r)\n",
    "    3.0.*M0.*r./2.0./R.*(1.0-r.*r./3.0./R./R)\n",
    "end\n",
    "rgiso(M0, R, r) = rg(miso(M0, R, r))\n",
    "function ρiso(M0, R, r)\n",
    "    u = 3.0.*M0.*r./2.0./R\n",
    "    v = 1.0-r.*r./3.0./R./R\n",
    "    du = 3.0.*M0./2.0./R\n",
    "    dv = -2.0.*r./3.0./R./R\n",
    "    (du.*v+u.*dv)./4.0./pi./r./r\n",
    "end\n",
    "\n",
    "function thin_lens(frg, r0, rmin_sim, endy=0.0, N=100)\n",
    "    const tgθ = rmin_sim/r0\n",
    "    const y0 = r0*tgθ\n",
    "    const θ=atan(tgθ)\n",
    "    const nθ = θ-2.0*frg(y0)/y0\n",
    "    const tgnθ = tan(nθ)\n",
    "    const nx = (endy-y0)/tgnθ\n",
    "    \n",
    "    lx = linspace(0.0,1.0,div(N,2)).^3\n",
    "    x = [-reverse(lx)*r0; lx*nx]\n",
    "    y = zeros(length(x))\n",
    "    for i in 1:length(x)\n",
    "        y[i] = if x[i]<0.0\n",
    "            tgθ*x[i]+y0\n",
    "        else\n",
    "            y[i] = y0+tgnθ*x[i]\n",
    "        end\n",
    "    end\n",
    "    x = [(xx) for xx in x]\n",
    "    y = [(yy) for yy in y]        \n",
    "    x, y\n",
    "end\n",
    "\n",
    "function direct_lens(frg, r0, rmin_sim, endy=0.0, N=100)\n",
    "    tx, ty = thin_lens(frg, r0, rmin_sim, endy, N)\n",
    "    ϕf = π-atan(ty[end]/tx[end])\n",
    "    function f(ϕ, y)\n",
    "        (u, v) = y\n",
    "        u_prime = v\n",
    "        v_prime = 3/2*frg(1/u)*u*u-u\n",
    "        [u_prime; v_prime]    \n",
    "    end\n",
    "    const u0 = 1.0/r0\n",
    "    const tgθ = rmin_sim/r0\n",
    "    const du0 = 1.0/(r0*abs(tgθ))\n",
    "    start = [u0; du0];\n",
    "    ϕl=linspace(0,ϕf,N)\n",
    "    \n",
    "    ϕ, y = ode23(f, start, ϕl, abstol=1.0e-19, reltol=1.0e-28);\n",
    "    u = map(y -> y[1], y);\n",
    "    x = [(v) for v in -cos(ϕ)./u]\n",
    "    y = [(v) for v in sin(ϕ)./u]        \n",
    "    spl = Spline1D(x,y, k=5, bc=\"extrapolate\")\n",
    "    \n",
    "    t = (endy-y[end-100])/(y[end]-y[end-100])\n",
    "    xmax = x[end-100]+t*(x[end]-x[end-100])\n",
    "    \n",
    "    #xmax = fzero(xx->evaluate(spl,xx)-endy, x[end]; order=8)    \n",
    "    lx = linspace(0.0,1.0,div(N,2)).^3\n",
    "    x = [-reverse(lx)*r0; lx*xmax]\n",
    "    y = evaluate(spl, x)\n",
    "\n",
    "    x,y\n",
    "end\n",
    "\n",
    "function analytic_lens(M0, R, rmin_sim, r0)\n",
    "    function u_in(ϕ, M0, R, b)\n",
    "        m0 = G*M0/C/C\n",
    "        cos(ϕ)/b + 3*m0./2./R./b.*((3/2-b*b/R/R)*ϕ*sin(ϕ)-b*b/R/R*cos(ϕ)*log(cos(ϕ)))\n",
    "    end\n",
    "    \n",
    "    # u = A*c1+B*c2+c3\n",
    "    function u_out_cs(ϕ, M0, b)\n",
    "        m0 = G*M0/C/C\n",
    "        c1 = cos(ϕ)\n",
    "        c2 = sin(ϕ)\n",
    "        c3 = 3.*m0./2./b./b.*(1-cos(2*ϕ)/3)\n",
    "        c1, c2, c3\n",
    "    end\n",
    "    c1_out,c2_out,c3_out = u_out_cs(π/2, M0, rmin_sim)\n",
    "    # c1 == 0.0\n",
    "    # 1/r0 == B*c2+c3\n",
    "    Bout = (1./r0-c3_out)./c2_out\n",
    "\n",
    "    ϕR = fzero(ϕt->(1./u_in(ϕt,M0,R,rmin_sim)-R), 0.0,pi/2)\n",
    "    c1_R,c2_R,c3_R = u_out_cs(ϕR, M0, rmin_sim)\n",
    "    #   since 1/R = Aout*c1 + Bout*c2 + c3 the next line reads:\n",
    "    Aout = (1/R - Bout*c2_R - c3_R)/c1_R\n",
    "    \n",
    "    N = 1000\n",
    "    x = zeros(N)\n",
    "    y = zeros(N)\n",
    "    ϕl = linspace(-π/2, π/2, N)\n",
    "    for i in 1:N\n",
    "        c1_out,c2_out,c3_out = u_out_cs(ϕl[i], M0, rmin_sim)\n",
    "        u = Aout*c1_out+Bout*c2_out+c3_out\n",
    "        r = 1./u\n",
    "        x[i] = -r*sin(ϕl[i])\n",
    "        y[i] = r*cos(ϕl[i])\n",
    "    end\n",
    "    x,y\n",
    "end"
   ]
  },
  {
   "cell_type": "code",
   "execution_count": 18,
   "metadata": {
    "collapsed": false
   },
   "outputs": [
    {
     "name": "stderr",
     "output_type": "stream",
     "text": [
      "WARNING: Method definition mfac(Any, Any, Any, Any) in module Main at In[4]:2 overwritten at In[18]:2.\n"
     ]
    },
    {
     "data": {
      "text/plain": [
       "mfac (generic function with 1 method)"
      ]
     },
     "execution_count": 18,
     "metadata": {},
     "output_type": "execute_result"
    }
   ],
   "source": [
    "function mfac(M0, R, rp, N)\n",
    "    tot = zeros(N)\n",
    "    ptot = zeros(N)\n",
    "    @inbounds for i in 1:N\n",
    "        x=rand()*rp+1.0e-2\n",
    "        y=rand()*rp+1.0e-2\n",
    "        z=rand()*R+1.0e-2\n",
    "        r=sqrt(x*x+y*y+z*z)\n",
    "        r>R && continue\n",
    "        pr = sqrt(x*x+y*y)\n",
    "        pr > rp && continue\n",
    "        ρ=ρiso(M0, R, r)        \n",
    "        ptot[i] = ρ\n",
    "        if r <= rp\n",
    "            tot[i] = ρ\n",
    "        end\n",
    "    end\n",
    "    sum(ptot)/sum(tot)\n",
    "end"
   ]
  },
  {
   "cell_type": "code",
   "execution_count": 20,
   "metadata": {
    "collapsed": false
   },
   "outputs": [
    {
     "data": {
      "text/plain": [
       "1.5308414782805302"
      ]
     },
     "execution_count": 20,
     "metadata": {},
     "output_type": "execute_result"
    }
   ],
   "source": [
    "Mmw = 450.0;\n",
    "Rmw = 200.0;\n",
    "mfac(Mmw, Rmw, 10.0, 50000000)"
   ]
  },
  {
   "cell_type": "code",
   "execution_count": 26,
   "metadata": {
    "collapsed": false
   },
   "outputs": [],
   "source": [
    "r0 = 2.7e6\n",
    "rmin_sim=10.0\n",
    "endy=0.0\n",
    "dx,dy = direct_lens(r->rgiso(Mmw, Rmw, r), r0, rmin_sim, endy, 1000);"
   ]
  },
  {
   "cell_type": "code",
   "execution_count": 27,
   "metadata": {
    "collapsed": false
   },
   "outputs": [],
   "source": [
    "r0 = 2.7e6\n",
    "rmin_sim=10.0\n",
    "endy=0.0\n",
    "tx,ty = thin_lens(r->rgiso(Mmw*1.53, Rmw, r), r0, rmin_sim, endy, 100000);"
   ]
  },
  {
   "cell_type": "code",
   "execution_count": 28,
   "metadata": {
    "collapsed": true
   },
   "outputs": [],
   "source": [
    "r0 = 2.7e6\n",
    "rmin_sim=10.0\n",
    "endy=0.0\n",
    "ax,ay = analytic_lens(Mmw, Rmw, rmin_sim, r0);"
   ]
  },
  {
   "cell_type": "code",
   "execution_count": 30,
   "metadata": {
    "collapsed": false
   },
   "outputs": [
    {
     "data": {
      "image/png": "[encoded data removed]",
      "text/plain": [
       "PyPlot.Figure(PyObject <matplotlib.figure.Figure object at 0x31afde790>)"
      ]
     },
     "metadata": {},
     "output_type": "display_data"
    }
   ],
   "source": [
    "hold(false)\n",
    "plot(dx, dy, \"-.b\", ms=0.02, lw=1.1)\n",
    "hold(true)\n",
    "plot(tx, ty, \".r\", ms=0.01, lw=0.01)\n",
    "plot(tx, ty, \".g\", ms=0.01, lw=0.01)\n",
    "hold(false)\n",
    "grid(true)"
   ]
  },
  {
   "cell_type": "code",
   "execution_count": 12,
   "metadata": {
    "collapsed": false
   },
   "outputs": [
    {
     "name": "stderr",
     "output_type": "stream",
     "text": [
      "WARNING: Method definition analytic_lens(Any, Any, Any, Any) in module Main at In[9]:2 overwritten at In[12]:2.\n"
     ]
    },
    {
     "data": {
      "text/plain": [
       "analytic_lens (generic function with 1 method)"
      ]
     },
     "execution_count": 12,
     "metadata": {},
     "output_type": "execute_result"
    }
   ],
   "source": []
  },
  {
   "cell_type": "code",
   "execution_count": 15,
   "metadata": {
    "collapsed": false
   },
   "outputs": [],
   "source": []
  },
  {
   "cell_type": "code",
   "execution_count": 16,
   "metadata": {
    "collapsed": false
   },
   "outputs": [
    {
     "data": {
      "image/png": "[encoded data removed]",
      "text/plain": [
       "PyPlot.Figure(PyObject <matplotlib.figure.Figure object at 0x30ed0e750>)"
      ]
     },
     "metadata": {},
     "output_type": "display_data"
    },
    {
     "data": {
      "text/plain": [
       "1-element Array{Any,1}:\n",
       " PyObject <matplotlib.lines.Line2D object at 0x31e07c150>"
      ]
     },
     "execution_count": 16,
     "metadata": {},
     "output_type": "execute_result"
    }
   ],
   "source": [
    "plot(ax,ay,\"-\",ms=0.02)"
   ]
  },
  {
   "cell_type": "code",
   "execution_count": null,
   "metadata": {
    "collapsed": true
   },
   "outputs": [],
   "source": []
  }
 ],
 "metadata": {
  "anaconda-cloud": {},
  "kernelspec": {
   "display_name": "Julia 0.5.0-rc3",
   "language": "julia",
   "name": "julia-0.5"
  },
  "language_info": {
   "file_extension": ".jl",
   "mimetype": "application/julia",
   "name": "julia",
   "version": "0.5.0"
  }
 },
 "nbformat": 4,
 "nbformat_minor": 0
}

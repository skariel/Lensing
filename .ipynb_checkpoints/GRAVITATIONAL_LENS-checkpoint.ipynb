{
 "cells": [
  {
   "cell_type": "code",
   "execution_count": null,
   "metadata": {
    "collapsed": false
   },
   "outputs": [],
   "source": [
    "using PyPlot, ODE, Dierckx\n",
    "set_bigfloat_precision(128);"
   ]
  },
  {
   "cell_type": "code",
   "execution_count": 2,
   "metadata": {
    "collapsed": false
   },
   "outputs": [
    {
     "data": {
      "text/plain": [
       "2"
      ]
     },
     "execution_count": 2,
     "metadata": {},
     "output_type": "execute_result"
    }
   ],
   "source": [
    "1+1"
   ]
  },
  {
   "cell_type": "code",
   "execution_count": 3,
   "metadata": {
    "collapsed": false
   },
   "outputs": [
    {
     "data": {
      "text/plain": [
       "opt (generic function with 2 methods)"
      ]
     },
     "execution_count": 3,
     "metadata": {},
     "output_type": "execute_result"
    }
   ],
   "source": [
    "function thin_lens(r0, rmin_sim, endy=0.0, N=100)\n",
    "    const tgθ = rmin_sim/r0\n",
    "    const t = r0 #0/(1.0+tgθ*tgθ)\n",
    "    const x0 = 0.0 #-r0+t\n",
    "    const y0 = t*tgθ\n",
    "    const b = sqrt(x0*x0+y0*y0)\n",
    "    const θ=atan(tgθ)\n",
    "    const nθ = θ-2.0/b\n",
    "    const tgnθ = tan(nθ)\n",
    "    const nx = (-y0+endy)/tgnθ\n",
    "    \n",
    "    lx = linspace(big\"0.0\",big\"1.0\",div(N,2)).^3\n",
    "    x = [-reverse(lx)*(x0+r0)+x0; lx*nx+x0]\n",
    "    y = zeros(length(x))\n",
    "    for i in 1:length(x)\n",
    "        y[i] = if x[i]<x0\n",
    "            tgθ*x[i]+y0\n",
    "        else\n",
    "            y[i] = y0+tgnθ*(x[i]-x0)\n",
    "        end\n",
    "    end\n",
    "    x = [(xx) for xx in x]\n",
    "    y = [(yy) for yy in y]        \n",
    "    x, y\n",
    "end\n",
    "\n",
    "function direct_lens(r0, rmin_sim, endy=0.0, N=100)\n",
    "    tx, ty = thin_lens(r0, rmin_sim, endy, N)\n",
    "    ϕf = π-atan(ty[end]/tx[end])\n",
    "    function f(ϕ, y)\n",
    "        (u, v) = y\n",
    "        u_prime = v\n",
    "        v_prime = 3/2*u*u-u\n",
    "        [u_prime; v_prime]    \n",
    "    end\n",
    "    const u0 = 1.0/r0\n",
    "    const tgθ = rmin_sim/r0\n",
    "    const du0 = 1.0/(r0*abs(tgθ))\n",
    "    start = [u0; du0];\n",
    "    ϕl=linspace(0,ϕf,N)\n",
    "    \n",
    "    ϕ, y = ode45(f, start, ϕl, abstol=1.0e-26, reltol=1.0e-36);\n",
    "    u = map(y -> y[1], y);\n",
    "    x = [(v) for v in -cos(ϕ)./u]\n",
    "    y = [(v) for v in sin(ϕ)./u]        \n",
    "    spl = Spline1D(x,y, k=5, bc=\"extrapolate\")\n",
    "    \n",
    "    t = (endy-y[end-100])/(y[end]-y[end-100])\n",
    "    xmax = x[end-100]+t*(x[end]-x[end-100])\n",
    "    \n",
    "    #xmax = fzero(xx->evaluate(spl,xx)-endy, x[end]; order=8)    \n",
    "    lx = linspace(big\"0.0\",big\"1.0\",div(N,2)).^3\n",
    "    x = [-reverse(lx)*r0; lx*xmax]\n",
    "    y = evaluate(spl, x)\n",
    "\n",
    "    x,y\n",
    "end\n",
    "\n",
    "function opt_target(fn, tx, ty, r0, rsim_min, fac, M=10)\n",
    "    display(\"!!!!!!!!!!!!!!!!!!!!!!!!!!\")\n",
    "    iter = 0\n",
    "    x = zeros(100000)\n",
    "    y = zeros(100000)\n",
    "    positive=false\n",
    "    while true\n",
    "        iter += 1\n",
    "        iter>5000 && error(\"maximum iterations reached!\")\n",
    "        x,y = fn(r0, rsim_min, ty, 100000);\n",
    "\n",
    "        dx = tx-x[end]\n",
    "        if iter % M == 0\n",
    "            display(string(dx)*\", \"*string(fac)*\", \"*string(rsim_min))\n",
    "        end\n",
    "        if dx>0.0000000001\n",
    "            rsim_min +=fac\n",
    "            if positive\n",
    "                fac*=0.995\n",
    "            else\n",
    "                fac *= 0.5\n",
    "            end\n",
    "            positive=true\n",
    "            continue\n",
    "        end\n",
    "        if dx<-0.0000000001\n",
    "            rsim_min -=fac\n",
    "            if !positive\n",
    "                fac*=0.995\n",
    "            else\n",
    "                fac *= 0.5\n",
    "            end\n",
    "            positive=false\n",
    "            continue\n",
    "        end\n",
    "        break\n",
    "    end\n",
    "    rsim_min, fac, x, y\n",
    "end\n",
    "    \n",
    "function opt(dy, r0, u_rsim_min, N=10000)\n",
    "    dux,duy = direct_lens(r0, u_rsim_min, dy, 100000);\n",
    "    tx = dux[end]\n",
    "    ty = dy\n",
    "    \n",
    "    fac = 5.0\n",
    "    rsim_min, fac, tux, tuy = opt_target(thin_lens, tx, ty, r0, u_rsim_min, fac)\n",
    "    rsim_min, fac, tdx, tdy = opt_target(thin_lens, tx, -ty, r0, rsim_min, 2000)\n",
    "    tdy = -tdy\n",
    "    rsim_min, fac, ddx, ddy = opt_target(direct_lens, tx, -ty, r0, rsim_min, 1, 1)\n",
    "    ddy = -ddy\n",
    "    \n",
    "    tdx,tdy,tux,tuy, ddx,ddy,dux,duy \n",
    "end"
   ]
  },
  {
   "cell_type": "code",
   "execution_count": 7,
   "metadata": {
    "collapsed": false
   },
   "outputs": [
    {
     "data": {
      "image/png": "[encoded data removed]",
      "text/plain": [
       "PyPlot.Figure(PyObject <matplotlib.figure.Figure object at 0x324a75190>)"
      ]
     },
     "metadata": {},
     "output_type": "display_data"
    },
    {
     "name": "stderr",
     "output_type": "stream",
     "text": [
      "WARNING: Method definition tosmall(Any) in module Main at In[5]:6 overwritten at In[7]:6.\n"
     ]
    }
   ],
   "source": [
    "rmin_sim = big\"60.0\"\n",
    "r0 = big\"2.0e3\"\n",
    "endy = big\"0.0\"\n",
    "dx,dy = direct_lens(r0, rmin_sim, endy, 100000);\n",
    "\n",
    "tosmall(x) = [Float64(xi) for xi in x]\n",
    "plot(tosmall(dx), tosmall(dy), \".b\", ms=0.02, lw=1.1)\n",
    "hold(true)\n",
    "tx,ty = thin_lens(r0, rmin_sim, endy, 100000);\n",
    "plot(tosmall(tx), tosmall(ty), \".r\", ms=0.01, lw=0.01)\n",
    "hold(false)\n",
    "#xlim(-5000,5000)\n",
    "#ylim(1066,1072)\n",
    "grid(true)"
   ]
  },
  {
   "cell_type": "code",
   "execution_count": 7,
   "metadata": {
    "collapsed": false
   },
   "outputs": [
    {
     "data": {
      "text/plain": [
       "1.287181905350378201831506259951307258387e+10"
      ]
     },
     "execution_count": 7,
     "metadata": {},
     "output_type": "execute_result"
    }
   ],
   "source": [
    "dx[end]"
   ]
  },
  {
   "cell_type": "code",
   "execution_count": 8,
   "metadata": {
    "collapsed": false
   },
   "outputs": [
    {
     "data": {
      "text/plain": [
       "1.285637898655336634164929978668582442400e+10"
      ]
     },
     "execution_count": 8,
     "metadata": {},
     "output_type": "execute_result"
    }
   ],
   "source": [
    "dx[end-100]"
   ]
  },
  {
   "cell_type": "code",
   "execution_count": null,
   "metadata": {
    "collapsed": false
   },
   "outputs": [
    {
     "data": {
      "text/plain": [
       "\"!!!!!!!!!!!!!!!!!!!!!!!!!!\""
      ]
     },
     "metadata": {},
     "output_type": "display_data"
    },
    {
     "data": {
      "text/plain": [
       "\"2.41903817013518363567730368688333473212e+04, 0.076958974609375, 1.000700445156445312497039967780665392638e+05\""
      ]
     },
     "metadata": {},
     "output_type": "display_data"
    },
    {
     "data": {
      "text/plain": [
       "\"-1.245563445144923350906570902692132629185e+02, 0.00029762230014705656, 1.000701438346433750359367473650729074564e+05\""
      ]
     },
     "metadata": {},
     "output_type": "display_data"
    },
    {
     "data": {
      "text/plain": [
       "\"-1.692438269879469540989996193966984236409, 9.07049303499004e-6, 1.000701433327828705664722246950447404057e+05\""
      ]
     },
     "metadata": {},
     "output_type": "display_data"
    },
    {
     "data": {
      "text/plain": [
       "\"8.758513347100301650436152086046776072136e-03, 6.980558431743113e-8, 1.00070143325834015474340947064046817086e+05\""
      ]
     },
     "metadata": {},
     "output_type": "display_data"
    },
    {
     "data": {
      "text/plain": [
       "\"2.070595731567767627786898808311557836872e-04, 1.0690610720244758e-9, 1.000701433258689454799067629069265864313e+05\""
      ]
     },
     "metadata": {},
     "output_type": "display_data"
    },
    {
     "data": {
      "text/plain": [
       "\"-5.868540398394378407670273518183199590305e-07, 2.077569856766315e-12, 1.000701433258697936504108001380031689104e+05\""
      ]
     },
     "metadata": {},
     "output_type": "display_data"
    },
    {
     "data": {
      "text/plain": [
       "\"-1.856754683061651132908893438926791634637e-09, 8.03455506814481e-15, 1.000701433258697912608804387912584241269e+05\""
      ]
     },
     "metadata": {},
     "output_type": "display_data"
    },
    {
     "data": {
      "text/plain": [
       "\"!!!!!!!!!!!!!!!!!!!!!!!!!!\""
      ]
     },
     "metadata": {},
     "output_type": "display_data"
    },
    {
     "data": {
      "text/plain": [
       "\"7.725589752850800173063789704777493188626e+09, 240.1732608938592, 1.025354911470979474456672034904948889193e+05\""
      ]
     },
     "metadata": {},
     "output_type": "display_data"
    },
    {
     "data": {
      "text/plain": [
       "\"7.437135542268877475625619176251262208802e+09, 228.4312215031483, 1.048838990252401287916600706268690048632e+05\""
      ]
     },
     "metadata": {},
     "output_type": "display_data"
    },
    {
     "data": {
      "text/plain": [
       "\"7.145204495551891107285824142329352618387e+09, 217.26324888631498, 1.071174935486067851668340592625207721171e+05\""
      ]
     },
     "metadata": {},
     "output_type": "display_data"
    },
    {
     "data": {
      "text/plain": [
       "\"6.850549614258932742266217384829425113015e+09, 206.6412769936805, 1.092418879271336789413399385268456756053e+05\""
      ]
     },
     "metadata": {},
     "output_type": "display_data"
    }
   ],
   "source": [
    "dtx,dty,utx,uty, ddx,ddy,udx,udy = opt(big\"-60000.0\", big\"2.0e10\", big\"100071.0\", big\"100000\"); # setup1\n",
    "#dtx,dty,utx,uty, ddx,ddy,udx,udy = opt(big\"-95000.0\", big\"2.0e10\", big\"100071.0\", big\"100000\"); # setup2\n",
    "#dtx,dty,utx,uty, ddx,ddy,udx,udy = opt(big\"-20.0\", big\"2.0e3\", big\"60.0\", big\"100000\"); # setup3"
   ]
  },
  {
   "cell_type": "code",
   "execution_count": 8,
   "metadata": {
    "collapsed": false
   },
   "outputs": [
    {
     "data": {
      "text/plain": [
       "2"
      ]
     },
     "execution_count": 8,
     "metadata": {},
     "output_type": "execute_result"
    }
   ],
   "source": [
    "1+1"
   ]
  },
  {
   "cell_type": "code",
   "execution_count": 10,
   "metadata": {
    "collapsed": false
   },
   "outputs": [
    {
     "data": {
      "text/plain": [
       "-94999.99999999748"
      ]
     },
     "execution_count": 10,
     "metadata": {},
     "output_type": "execute_result"
    }
   ],
   "source": [
    "ddy[end]"
   ]
  },
  {
   "cell_type": "code",
   "execution_count": 11,
   "metadata": {
    "collapsed": false
   },
   "outputs": [
    {
     "data": {
      "text/plain": [
       "-94999.99999999255"
      ]
     },
     "execution_count": 11,
     "metadata": {},
     "output_type": "execute_result"
    }
   ],
   "source": [
    "udy[end]"
   ]
  },
  {
   "cell_type": "code",
   "execution_count": 12,
   "metadata": {
    "collapsed": false
   },
   "outputs": [
    {
     "data": {
      "text/plain": [
       "-95000.0"
      ]
     },
     "execution_count": 12,
     "metadata": {},
     "output_type": "execute_result"
    }
   ],
   "source": [
    "dty[end]"
   ]
  },
  {
   "cell_type": "code",
   "execution_count": 13,
   "metadata": {
    "collapsed": false
   },
   "outputs": [
    {
     "data": {
      "text/plain": [
       "-95000.0"
      ]
     },
     "execution_count": 13,
     "metadata": {},
     "output_type": "execute_result"
    }
   ],
   "source": [
    "uty[end]"
   ]
  },
  {
   "cell_type": "code",
   "execution_count": 14,
   "metadata": {
    "collapsed": false
   },
   "outputs": [
    {
     "data": {
      "image/png": "[encoded data removed]",
      "text/plain": [
       "PyPlot.Figure(PyObject <matplotlib.figure.Figure object at 0x31846f490>)"
      ]
     },
     "metadata": {},
     "output_type": "display_data"
    },
    {
     "name": "stderr",
     "output_type": "stream",
     "text": [
      "WARNING: Base.writemime is deprecated.\n",
      "  likely near /Users/ariel/.julia/v0.5/IJulia/src/kernel.jl:35\n",
      "in show at /Users/ariel/.julia/v0.5/PyPlot/src/PyPlot.jl\n"
     ]
    },
    {
     "data": {
      "text/plain": [
       "PyObject <matplotlib.legend.Legend object at 0x3164a6450>"
      ]
     },
     "execution_count": 14,
     "metadata": {},
     "output_type": "execute_result"
    },
    {
     "name": "stderr",
     "output_type": "stream",
     "text": [
      "WARNING: Base.writemime is deprecated.\n",
      "  likely near /Users/ariel/.julia/v0.5/IJulia/src/kernel.jl:35\n",
      "WARNING: Base.writemime is deprecated.\n",
      "  likely near /Users/ariel/.julia/v0.5/IJulia/src/kernel.jl:35\n",
      "WARNING: Base.writemime is deprecated.\n",
      "  likely near /Users/ariel/.julia/v0.5/IJulia/src/kernel.jl:35\n",
      "WARNING: Base.writemime is deprecated.\n",
      "  likely near /Users/ariel/.julia/v0.5/IJulia/src/kernel.jl:35\n",
      "WARNING: Base.writemime is deprecated.\n",
      "  likely near /Users/ariel/.julia/v0.5/IJulia/src/kernel.jl:35\n",
      "WARNING: Base.writemime is deprecated.\n",
      "  likely near /Users/ariel/.julia/v0.5/IJulia/src/kernel.jl:35\n",
      "WARNING: Base.writemime is deprecated.\n",
      "  likely near /Users/ariel/.julia/v0.5/IJulia/src/kernel.jl:35\n",
      "WARNING: Base.writemime is deprecated.\n",
      "  likely near /Users/ariel/.julia/v0.5/IJulia/src/kernel.jl:35\n",
      "WARNING: Base.writemime is deprecated.\n",
      "  likely near /Users/ariel/.julia/v0.5/IJulia/src/kernel.jl:35\n",
      "WARNING: Base.writemime is deprecated.\n",
      "  likely near /Users/ariel/.julia/v0.5/IJulia/src/kernel.jl:35\n"
     ]
    }
   ],
   "source": [
    "tosmall(x) = [Float64(xi) for xi in x]\n",
    "plot(tosmall(udx)/1e10,tosmall(udy),\"-b\")\n",
    "hold(true)\n",
    "plot(tosmall(ddx)/1e10,tosmall(ddy),\"-r\")\n",
    "plot(tosmall(utx)/1e10,tosmall(uty),\":k\", lw=3)\n",
    "plot(tosmall(dtx)/1e10,tosmall(dty),\":k\", lw=3)\n",
    "plot(0,0,\"ok\",ms=5)\n",
    "hold(false)\n",
    "grid(true)\n",
    "xlabel(\"X/1e10 [natural units]\")\n",
    "ylabel(\"Y [natural units]\")\n",
    "legend([\"Exact upper ray\",\"Exact lower ray\",\"Thins lens\"])\n",
    "#xlim(-5e-5,5e-5)\n",
    "#ylim(100062,100072)"
   ]
  },
  {
   "cell_type": "code",
   "execution_count": 15,
   "metadata": {
    "collapsed": false
   },
   "outputs": [
    {
     "data": {
      "text/plain": [
       "len (generic function with 1 method)"
      ]
     },
     "execution_count": 15,
     "metadata": {},
     "output_type": "execute_result"
    }
   ],
   "source": [
    "function len(x,y)\n",
    "    tobig(x) = [BigFloat(xi) for xi in x]\n",
    "    dx = tobig(x[2:end]-x[1:(end-1)])\n",
    "    dy = tobig(y[2:end]-y[1:(end-1)])\n",
    "    cx = tobig(0.5*(x[1:(end-1)]+x[2:end]))\n",
    "    cy = tobig(0.5*(y[1:(end-1)]+y[2:end]))\n",
    "    cr = sqrt(cx.*cx+cy.*cy)\n",
    "    dr = sqrt(dx.*dx+dy.*dy)\n",
    "    gf = 1./sqrt(1.0-1.0./cr)\n",
    "    l = sum(dr)\n",
    "    gl = sum(dr.*gf)\n",
    "    Float64(l), Float64(gl)\n",
    "end"
   ]
  },
  {
   "cell_type": "code",
   "execution_count": 16,
   "metadata": {
    "collapsed": false
   },
   "outputs": [
    {
     "data": {
      "text/plain": [
       "1.3943595886230469"
      ]
     },
     "execution_count": 16,
     "metadata": {},
     "output_type": "execute_result"
    }
   ],
   "source": [
    "dd = len(utx,uty)[2] - len(dtx,dty)[2]"
   ]
  },
  {
   "cell_type": "code",
   "execution_count": 17,
   "metadata": {
    "collapsed": false
   },
   "outputs": [
    {
     "data": {
      "text/plain": [
       "1.3943634033203125"
      ]
     },
     "execution_count": 17,
     "metadata": {},
     "output_type": "execute_result"
    }
   ],
   "source": [
    "dt = len(udx,udy)[2] - len(ddx,ddy)[2]"
   ]
  },
  {
   "cell_type": "code",
   "execution_count": 18,
   "metadata": {
    "collapsed": false
   },
   "outputs": [
    {
     "data": {
      "text/plain": [
       "-5.80231745388980554247744203574527228223e-11"
      ]
     },
     "execution_count": 18,
     "metadata": {},
     "output_type": "execute_result"
    }
   ],
   "source": [
    "_d1 = ddx[end]-dtx[end]"
   ]
  },
  {
   "cell_type": "code",
   "execution_count": 19,
   "metadata": {
    "collapsed": false
   },
   "outputs": [
    {
     "data": {
      "text/plain": [
       "5.738408138201406226821871991773136188541e-11"
      ]
     },
     "execution_count": 19,
     "metadata": {},
     "output_type": "execute_result"
    }
   ],
   "source": [
    "_d2 = udx[end]-utx[end]"
   ]
  },
  {
   "cell_type": "code",
   "execution_count": 20,
   "metadata": {
    "collapsed": false
   },
   "outputs": [
    {
     "data": {
      "text/plain": [
       "3.814697265625e-6"
      ]
     },
     "execution_count": 20,
     "metadata": {},
     "output_type": "execute_result"
    }
   ],
   "source": [
    "dt-dd"
   ]
  },
  {
   "cell_type": "code",
   "execution_count": 21,
   "metadata": {
    "collapsed": false
   },
   "outputs": [
    {
     "data": {
      "text/plain": [
       "1.154072559209121176929931402751840847077e-10"
      ]
     },
     "execution_count": 21,
     "metadata": {},
     "output_type": "execute_result"
    }
   ],
   "source": [
    "_d2-_d1"
   ]
  },
  {
   "cell_type": "code",
   "execution_count": null,
   "metadata": {
    "collapsed": true
   },
   "outputs": [],
   "source": []
  },
  {
   "cell_type": "code",
   "execution_count": null,
   "metadata": {
    "collapsed": true
   },
   "outputs": [],
   "source": [
    "setup 1 - 3.81e-6\n",
    "setup 2 - 3.81e-6"
   ]
  }
 ],
 "metadata": {
  "anaconda-cloud": {},
  "kernelspec": {
   "display_name": "Julia 0.5.0-rc3",
   "language": "julia",
   "name": "julia-0.5"
  },
  "language_info": {
   "file_extension": ".jl",
   "mimetype": "application/julia",
   "name": "julia",
   "version": "0.5.0"
  }
 },
 "nbformat": 4,
 "nbformat_minor": 0
}

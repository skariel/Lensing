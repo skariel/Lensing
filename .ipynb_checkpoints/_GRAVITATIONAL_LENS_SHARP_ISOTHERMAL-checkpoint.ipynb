{
 "cells": [
  {
   "cell_type": "code",
   "execution_count": 1,
   "metadata": {
    "collapsed": false
   },
   "outputs": [
    {
     "data": {
      "text/plain": [
       "2"
      ]
     },
     "execution_count": 1,
     "metadata": {},
     "output_type": "execute_result"
    }
   ],
   "source": [
    "1+1"
   ]
  },
  {
   "cell_type": "code",
   "execution_count": null,
   "metadata": {
    "collapsed": false
   },
   "outputs": [],
   "source": [
    "include(\"cosmology.jl\")\n",
    "using PyPlot, ODE, Dierckx, Roots\n",
    "set_bigfloat_precision(256);"
   ]
  },
  {
   "cell_type": "code",
   "execution_count": 36,
   "metadata": {
    "collapsed": false
   },
   "outputs": [
    {
     "name": "stderr",
     "output_type": "stream",
     "text": [
      "WARNING: Method definition rg(Any) in module Main at In[28]:1 overwritten at In[36]:1.\n",
      "WARNING: Method definition miso(Any, Any, Any) in module Main at In[28]:3 overwritten at In[36]:3.\n",
      "WARNING: Method definition rgiso(Any, Any, Any) in module Main at In[28]:8 overwritten at In[36]:8.\n",
      "WARNING: Method definition ρiso(Any, Any, Any) in module Main at In[28]:10 overwritten at In[36]:10.\n",
      "WARNING: Method definition thin_lens(Any, Any, Any) in module Main at In[28]:17 overwritten at In[36]:17.\n",
      "WARNING: Method definition thin_lens(Any, Any, Any, Any) in module Main at In[28]:17 overwritten at In[36]:17.\n",
      "WARNING: Method definition thin_lens(Any, Any, Any, Any, Any) in module Main at In[28]:17 overwritten at In[36]:17.\n",
      "WARNING: Method definition analytic_lens(Any, Any, Any, Any) in module Main at In[28]:71 overwritten at In[36]:71.\n"
     ]
    },
    {
     "data": {
      "text/plain": [
       "analytic_lens (generic function with 1 method)"
      ]
     },
     "execution_count": 36,
     "metadata": {},
     "output_type": "execute_result"
    }
   ],
   "source": [
    "rg(m) = 2.0.*m.*G./C./C\n",
    "function miso(M0, R, r)\n",
    "    if r>R\n",
    "        return M0\n",
    "    end\n",
    "    M0.*r./R\n",
    "end\n",
    "rgiso(M0, R, r) = rg(miso(M0, R, r))\n",
    "function ρiso(M0, R, r)\n",
    "    if r>R\n",
    "        return 0.0\n",
    "    end\n",
    "    M0./R./4.0./pi./r./r\n",
    "end\n",
    "\n",
    "function thin_lens(frg, r0, b, endy=0.0, N=100)\n",
    "    const tgθ = b/r0\n",
    "    @show const θ=atan(tgθ)\n",
    "    @show const nθ = θ-2.0*frg(b)/b\n",
    "    const tgnθ = tan(nθ)\n",
    "    nx = (endy-b)/tgnθ\n",
    "    if nθ>0.0\n",
    "        nx = r0\n",
    "    end\n",
    "    \n",
    "    lx = linspace(0.0,1.0,div(N,2)).^3\n",
    "    x = [-reverse(lx)*r0; lx*nx]\n",
    "    y = zeros(length(x))\n",
    "    for i in 1:length(x)\n",
    "        y[i] = if x[i]<0.0\n",
    "            tgθ*(x[i]+r0)\n",
    "        else\n",
    "            b+tgnθ*x[i]\n",
    "        end\n",
    "    end\n",
    "    x = [Float64(xx) for xx in x]\n",
    "    y = [Float64(yy) for yy in y]\n",
    "    x, y\n",
    "end\n",
    "\n",
    "function direct_lens5(frg, r0, b, endy=0.0, N=100)\n",
    "    tx, ty = thin_lens(frg, r0, b, endy, N)\n",
    "    ϕf = π-atan(ty[end]/tx[end])\n",
    "    function f(ϕ, y)\n",
    "        (u, v) = y\n",
    "        u_prime = v\n",
    "        v_prime = 3/2*frg(1/u)*u*u-u\n",
    "        [u_prime; v_prime]    \n",
    "    end\n",
    "    const u0 = 1.0/r0\n",
    "    const tgθ0 = b/r0\n",
    "    const du0 = 1.0/(r0*abs(tgθ0))\n",
    "    start = [u0; du0];\n",
    "    _t = linspace(0,1,div(N,2)).^0.03\n",
    "    ϕl=[_t.*π/2; (ϕf-π/2).*_t+π/2]\n",
    "    \n",
    "    ϕ, y = ode45(f, start, ϕl, abstol=1.0e-27, reltol=1.0e-45);\n",
    "    u = map(y -> y[1], y);\n",
    "    x = [Float64(v) for v in -cos(ϕ)./u]\n",
    "    y = [Float64(v) for v in sin(ϕ)./u]        \n",
    "    #spl = Spline1D(x,y, k=5, bc=\"extrapolate\")\n",
    "    #t = (endy-y[end-100])/(y[end]-y[end-100])\n",
    "    #xmax = x[end-100]+t*(x[end]-x[end-100]) \n",
    "    #lx = linspace(0.0,1.0,div(N,2)).^3\n",
    "    #x = [-reverse(lx)*r0; lx*xmax]\n",
    "    #y = evaluate(spl, x)\n",
    "    x,y\n",
    "end\n",
    "\n",
    "function analytic_lens(M0, R, b, r0)\n",
    "    function u_out(ϕ)\n",
    "        m0 = G*M0/C/C\n",
    "        B = 1/r0 - 2m0/b/b\n",
    "        ϕ0 = (1-3*m0/R)^(-0.5)*acos(b/R)        \n",
    "        if ϕ<0\n",
    "            ϕ0 = -ϕ0\n",
    "        end\n",
    "        A = (1/R-(1/r0-2m0/b/b)*sin(ϕ0)-3m0/2/b/b*(1-cos(2ϕ0)/3))   /  cos(ϕ0)\n",
    "        A*cos(ϕ) + B*sin(ϕ) + 3m0/2/b/b*(1-cos(2ϕ)/3)\n",
    "    end\n",
    "\n",
    "    N = 1000\n",
    "    x = zeros(N)\n",
    "    y = zeros(N)\n",
    "    ϕl = linspace(-π/2, π/2, N)\n",
    "    for i in 1:N\n",
    "        u = u_out(ϕl[i])\n",
    "        r = 1./u\n",
    "        x[i] = -r*sin(ϕl[i])\n",
    "        y[i] = r*cos(ϕl[i])\n",
    "    end\n",
    "    x,y\n",
    "end"
   ]
  },
  {
   "cell_type": "code",
   "execution_count": 37,
   "metadata": {
    "collapsed": false
   },
   "outputs": [
    {
     "name": "stderr",
     "output_type": "stream",
     "text": [
      "WARNING: Method definition mfac(Any, Any, Any, Any) in module Main at In[29]:2 overwritten at In[37]:2.\n"
     ]
    },
    {
     "data": {
      "text/plain": [
       "mfac (generic function with 1 method)"
      ]
     },
     "execution_count": 37,
     "metadata": {},
     "output_type": "execute_result"
    }
   ],
   "source": [
    "function mfac(M0, R, rp, N)\n",
    "    tot = 0.0\n",
    "    ptot = 0.0\n",
    "    @inbounds for i in 1:N\n",
    "        x=rand()*rp+1.0e-2\n",
    "        y=rand()*rp+1.0e-2\n",
    "        z=rand()*R+1.0e-2\n",
    "        r=sqrt(x*x+y*y+z*z)\n",
    "        r>R && continue\n",
    "        pr = sqrt(x*x+y*y)\n",
    "        pr > rp && continue\n",
    "        ρ=ρiso(M0, R, r)        \n",
    "        ptot += ρ\n",
    "        if r <= rp\n",
    "            tot += ρ\n",
    "        end\n",
    "    end\n",
    "    ptot/tot\n",
    "end"
   ]
  },
  {
   "cell_type": "code",
   "execution_count": 52,
   "metadata": {
    "collapsed": false
   },
   "outputs": [
    {
     "data": {
      "text/plain": [
       "1.2624917412412497"
      ]
     },
     "execution_count": 52,
     "metadata": {},
     "output_type": "execute_result"
    }
   ],
   "source": [
    "Mmw = big\"200.0\";\n",
    "Rmw = big\"50.0\";\n",
    "mf = mfac(Float64(Mmw), Float64(Rmw), 30.0, 50000000)"
   ]
  },
  {
   "cell_type": "code",
   "execution_count": 53,
   "metadata": {
    "collapsed": false
   },
   "outputs": [
    {
     "data": {
      "text/plain": [
       "4.702012347165559976916881038287886906881032964571503812042279255799791137164303e+06"
      ]
     },
     "execution_count": 53,
     "metadata": {},
     "output_type": "execute_result"
    }
   ],
   "source": [
    "m0 = G*Mmw/C/C;\n",
    "b = big\"30.0\";\n",
    "r0 = b*b/2/m0"
   ]
  },
  {
   "cell_type": "code",
   "execution_count": 54,
   "metadata": {
    "collapsed": false
   },
   "outputs": [
    {
     "name": "stdout",
     "output_type": "stream",
     "text": [
      "const θ = atan(tgθ) = 6.38024696334056881771349905239913707278567491444775949245436616436457082883915e-06\n",
      "const nθ = θ - (2.0 * frg(b)) / b = -1.276049392772003455804863558711584892195567449655074459083735707604948764663945e-06\n"
     ]
    }
   ],
   "source": [
    "endy=0.0\n",
    "dx,dy = direct_lens5(r->rgiso(Mmw, Rmw, r), r0, b, endy, 100000);"
   ]
  },
  {
   "cell_type": "code",
   "execution_count": 55,
   "metadata": {
    "collapsed": false
   },
   "outputs": [
    {
     "name": "stdout",
     "output_type": "stream",
     "text": [
      "const θ = atan(tgθ) = 6.38024696334056881771349905239913707278567491444775949245436616436457082883915e-06\n",
      "const nθ = θ - (2.0 * frg(b)) / b = -3.285763954747028072535372385630141071052867404858270864883356634141874977687824e-06\n"
     ]
    }
   ],
   "source": [
    "endy=0.0\n",
    "tx,ty = thin_lens(r->rgiso(Mmw*mf, Rmw, r), r0, b, endy, 1000);"
   ]
  },
  {
   "cell_type": "code",
   "execution_count": 56,
   "metadata": {
    "collapsed": false
   },
   "outputs": [],
   "source": [
    "endy=0.0\n",
    "ax,ay = analytic_lens(Mmw, Rmw, b, r0);"
   ]
  },
  {
   "cell_type": "code",
   "execution_count": 57,
   "metadata": {
    "collapsed": false
   },
   "outputs": [
    {
     "data": {
      "image/png": "[encoded data removed]",
      "text/plain": [
       "PyPlot.Figure(PyObject <matplotlib.figure.Figure object at 0x322ed1c50>)"
      ]
     },
     "metadata": {},
     "output_type": "display_data"
    }
   ],
   "source": [
    "hold(false)\n",
    "plot(dx, dy, \"-b\", ms=3.02, lw=0.5)\n",
    "hold(true)\n",
    "plot(tx, ty, \"-r\", ms=0.01, lw=0.5)\n",
    "plot(ax, ay, \"-g\", ms=0.01, lw=1.01)\n",
    "hold(false)\n",
    "grid(true)\n",
    "#xlim(-100,100)\n",
    "#ylim(29.9995,30.0015)"
   ]
  },
  {
   "cell_type": "code",
   "execution_count": 19,
   "metadata": {
    "collapsed": false
   },
   "outputs": [
    {
     "data": {
      "text/plain": [
       "2.0897832653980027e6"
      ]
     },
     "execution_count": 19,
     "metadata": {},
     "output_type": "execute_result"
    }
   ],
   "source": [
    "ax[1]"
   ]
  },
  {
   "cell_type": "code",
   "execution_count": 30,
   "metadata": {
    "collapsed": false
   },
   "outputs": [
    {
     "data": {
      "text/plain": [
       "-215938.18079213353"
      ]
     },
     "execution_count": 30,
     "metadata": {},
     "output_type": "execute_result"
    }
   ],
   "source": [
    "dx[2]"
   ]
  },
  {
   "cell_type": "code",
   "execution_count": 31,
   "metadata": {
    "collapsed": false
   },
   "outputs": [
    {
     "data": {
      "text/plain": [
       "26.90008742485427"
      ]
     },
     "execution_count": 31,
     "metadata": {},
     "output_type": "execute_result"
    }
   ],
   "source": [
    "dy[2]"
   ]
  },
  {
   "cell_type": "code",
   "execution_count": 59,
   "metadata": {
    "collapsed": false
   },
   "outputs": [
    {
     "data": {
      "text/plain": [
       "-1.0"
      ]
     },
     "execution_count": 59,
     "metadata": {},
     "output_type": "execute_result"
    }
   ],
   "source": [
    "sin(-pi/2)"
   ]
  },
  {
   "cell_type": "code",
   "execution_count": 60,
   "metadata": {
    "collapsed": false
   },
   "outputs": [
    {
     "data": {
      "text/plain": [
       "-9.375"
      ]
     },
     "execution_count": 60,
     "metadata": {},
     "output_type": "execute_result"
    }
   ],
   "source": [
    "4*0.1/0.8/0.8-1/0.1"
   ]
  },
  {
   "cell_type": "code",
   "execution_count": 61,
   "metadata": {
    "collapsed": false
   },
   "outputs": [
    {
     "data": {
      "text/plain": [
       "3.2000000000000006"
      ]
     },
     "execution_count": 61,
     "metadata": {},
     "output_type": "execute_result"
    }
   ],
   "source": [
    "0.8*0.8/2/0.1"
   ]
  },
  {
   "cell_type": "code",
   "execution_count": null,
   "metadata": {
    "collapsed": true
   },
   "outputs": [],
   "source": []
  }
 ],
 "metadata": {
  "anaconda-cloud": {},
  "kernelspec": {
   "display_name": "Julia 0.5.0-rc3",
   "language": "julia",
   "name": "julia-0.5"
  },
  "language_info": {
   "file_extension": ".jl",
   "mimetype": "application/julia",
   "name": "julia",
   "version": "0.5.0"
  }
 },
 "nbformat": 4,
 "nbformat_minor": 0
}
